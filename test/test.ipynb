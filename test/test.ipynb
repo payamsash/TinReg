{
 "cells": [
  {
   "cell_type": "code",
   "execution_count": 1,
   "id": "40e08a51",
   "metadata": {},
   "outputs": [],
   "source": [
    "%matplotlib qt\n",
    "from pathlib import Path\n",
    "import numpy as np\n",
    "import pandas as pd\n",
    "import matplotlib.pyplot as plt\n",
    "import seaborn as sns\n",
    "import mne"
   ]
  },
  {
   "cell_type": "markdown",
   "id": "8c5e6d11",
   "metadata": {},
   "source": [
    "Load data"
   ]
  },
  {
   "cell_type": "code",
   "execution_count": 100,
   "id": "bdccb936",
   "metadata": {},
   "outputs": [],
   "source": [
    "main_dir = Path(\"/Volumes/Extreme_SSD/payam_data/Tinreg\")\n",
    "epochs_dir = main_dir / \"epochs\"\n",
    "scores_dir = main_dir / \"scores\"\n",
    "coeffs_dir = main_dir / \"coeffs\"\n",
    "stcs_dir = main_dir / \"stcs\"\n",
    "\n",
    "df_subjects = pd.read_csv(\"../sample/tinreg_master.csv\")\n",
    "df_subjects[\"ID\"] = df_subjects[\"ID\"].str.lower()\n",
    "df_subjects.dropna(inplace=True)\n",
    "df_subjects.set_index(\"ID\", inplace=True)\n",
    "df_subjects[\"group\"] = df_subjects[\"group\"].map({\"T\": \"Tinnitus\", \"C\": \"Control\"})\n",
    "\n",
    "cmap1 = sns.cubehelix_palette(rot=-.2).as_hex()\n",
    "cmap2 = sns.cubehelix_palette(gamma=.5).as_hex()"
   ]
  },
  {
   "cell_type": "code",
   "execution_count": 10,
   "id": "e9fdf98d",
   "metadata": {},
   "outputs": [
    {
     "name": "stderr",
     "output_type": "stream",
     "text": [
      "/var/folders/20/hsy69tx529ndn3rkv5gzcf0c0000gn/T/ipykernel_5384/2410499184.py:7: RuntimeWarning: More events than default colors available. You should pass a list of unique colors.\n",
      "  mne.viz.plot_events(\n"
     ]
    }
   ],
   "source": [
    "## How does the events look like?\n",
    "\n",
    "fname = epochs_dir / \"asjt-epo.fif\"\n",
    "epochs_sample = mne.read_epochs(fname, verbose=False)\n",
    "\n",
    "fig, ax = plt.subplots(1, 1, figsize=(10, 4), layout=\"tight\")\n",
    "mne.viz.plot_events(\n",
    "                    epochs_sample.events,\n",
    "                    sfreq=epochs_sample.info[\"sfreq\"],\n",
    "                    event_id=epochs_sample.event_id,\n",
    "                    axes=ax\n",
    "                    )\n",
    "ax.spines[[\"right\", \"top\"]].set_visible(False)\n",
    "ax.get_legend().remove()"
   ]
  },
  {
   "cell_type": "code",
   "execution_count": null,
   "id": "1ce8778d",
   "metadata": {},
   "outputs": [],
   "source": [
    "## How does the ERPs look like?\n",
    "\n",
    "mod1 = \"tin\"\n",
    "mod2 = \"rndm\"\n",
    "keys = [key for key in list(epochs_sample.event_id.keys()) if key.endswith(f\"{mod1}_{mod2}\")]\n",
    "\n",
    "evs_co, evs_ti = [], []\n",
    "for fname in epochs_dir.iterdir():\n",
    "    if fname.stem.startswith(\".\"):\n",
    "        continue\n",
    "    subject = fname.stem[:4]\n",
    "    group = df_subjects.loc[subject, \"group\"]\n",
    "    if group == \"Control\":\n",
    "        evs_co.append(mne.read_epochs(fname, verbose=False)[keys].average())\n",
    "    if group == \"Tinnitus\":\n",
    "        evs_ti.append(mne.read_epochs(fname, verbose=False)[keys].average())\n",
    "\n",
    "for mod in [evs_co, evs_ti]:\n",
    "    for ev in mod:\n",
    "        ev.drop_channels([\"O1\", \"O2\", \"PO7\", \"PO8\"], on_missing=\"warn\")\n",
    "\n",
    "evs_dict = {\"Control\": evs_co,\n",
    "            \"Tinnitus\": evs_ti}\n",
    "\n",
    "fig = mne.viz.plot_compare_evokeds(evs_dict, truncate_xaxis=False, time_unit='ms',\n",
    "                                    colors={\"Control\": cmap1[3], \"Tinnitus\": cmap2[5]},\n",
    "                                    picks=\"Cz\", ylim=dict(eeg=[-1.5, 1.5]),\n",
    "                                    title=f\"{mod1} frequency & {mod2}\")\n",
    "\n",
    "for coll in fig[0].axes[0].collections:\n",
    "    coll.set_alpha(0.1)\n",
    "leg = fig[0].axes[0].get_legend()\n",
    "leg.set_frame_on(False)\n",
    "fig[0].set_size_inches(8, 4)\n",
    "\n",
    "for line in fig[0].axes[0].get_lines():\n",
    "    line.set_linewidth(2.5)\n"
   ]
  },
  {
   "cell_type": "markdown",
   "id": "1516364e",
   "metadata": {},
   "source": [
    "Check Decodings"
   ]
  },
  {
   "cell_type": "code",
   "execution_count": 69,
   "id": "a5f0a3a1",
   "metadata": {},
   "outputs": [],
   "source": [
    "subjects = np.unique([fname.stem[:4] for fname in scores_dir.iterdir()])\n",
    "mode_1 = \"rnd\"\n",
    "mode_2 = \"standard\"\n",
    "scores_dict = {}\n",
    "groups_dict = {}\n",
    "\n",
    "for subject in subjects:\n",
    "    fname_po2po = scores_dir / f\"{subject}_{mode_1}_post2post_{mode_2}.npy\"\n",
    "    score_po2po = np.load(fname_po2po, allow_pickle=True) # n_cv, n_time_post, n_time_post (5, 50, 50)\n",
    "    \n",
    "    fname_po2pr = scores_dir / f\"{subject}_{mode_1}_post2pre_{mode_2}.npy\"\n",
    "    score_po2pr = np.load(fname_po2pr, allow_pickle=True) # n_cv, n_time_post, n_time_post (5, 50, 40)\n",
    "    \n",
    "    groups_dict[subject] = df_subjects.loc[subject, \"group\"]\n",
    "    scores_dict[subject] = np.concatenate(\n",
    "                                        [np.mean(score_po2pr, axis=0),\n",
    "                                        np.mean(score_po2po, axis=0)],\n",
    "                                        axis=-1\n",
    "                                        )\n",
    "\n",
    "scores_co = []\n",
    "scores_ti = []\n",
    "for subject, group in groups_dict.items():\n",
    "    if group == \"Control\":\n",
    "        scores_co.append(scores_dict[subject])\n",
    "    if group == \"Tinnitus\":\n",
    "        scores_ti.append(scores_dict[subject])\n",
    "\n",
    "scores_co = np.array(scores_co)\n",
    "scores_ti = np.array(scores_ti)    "
   ]
  },
  {
   "cell_type": "code",
   "execution_count": 112,
   "id": "75735a69",
   "metadata": {},
   "outputs": [
    {
     "data": {
      "text/plain": [
       "Text(0.5, 0, 'Time')"
      ]
     },
     "execution_count": 112,
     "metadata": {},
     "output_type": "execute_result"
    }
   ],
   "source": [
    "## 1D plot\n",
    "diag_po2po_co = np.array([np.diag(s) for s in scores_co[:, :, 40:]])\n",
    "diag_po2pr_co = np.array([np.diag(s) for s in scores_co[:, :, :40]])\n",
    "diag_po2po_ti = np.array([np.diag(s) for s in scores_ti[:, :, 40:]])\n",
    "diag_po2pr_ti = np.array([np.diag(s) for s in scores_ti[:, :, :40]])\n",
    "\n",
    "\n",
    "diag_co = np.concatenate([diag_po2pr_co, diag_po2po_co], axis=1)\n",
    "diag_ti = np.concatenate([diag_po2pr_ti, diag_po2po_ti], axis=1)\n",
    "mean1, std1 = diag_co.mean(axis=0), diag_co.std(axis=0)\n",
    "mean2, std2 = diag_ti.mean(axis=0), diag_ti.std(axis=0)\n",
    "\n",
    "fig, ax = plt.subplots(1, 1, layout=\"tight\", figsize=(9, 4))\n",
    "ax.plot(epochs.times, mean1, color=cmap1[3], label=\"Control\", lw=2)\n",
    "ax.fill_between(epochs.times, mean1-std1, mean1+std1, alpha=0.1, color=cmap1[3])\n",
    "ax.plot(epochs.times, mean2, color=cmap2[5], label=\"Tinnitus\", lw=2)\n",
    "ax.fill_between(epochs.times, mean2-std2, mean2+std2, alpha=0.1, color=cmap2[5])\n",
    "\n",
    "ax.vlines(0, 0.22, 0.28, linestyles=\"--\", color=\"k\")\n",
    "ax.hlines(0.25, -0.4, 0.5, linestyles=\"--\", color=\"grey\")\n",
    "ax.set_ylim([0.22, 0.28])\n",
    "ax.set_xlim([-0.4, 0.5])\n",
    "ax.spines[[\"right\", \"top\"]].set_visible(False)\n",
    "ax.legend(frameon=False)\n",
    "ax.set_ylabel(\"Decoding accuracy\")\n",
    "ax.set_title(\"Decoding on Random Trials\")\n",
    "ax.set_xlabel(\"Time\")"
   ]
  },
  {
   "cell_type": "code",
   "execution_count": 117,
   "id": "36c966dd",
   "metadata": {},
   "outputs": [],
   "source": [
    "## 2D plot\n",
    "fig, ax = plt.subplots(1, 1, layout=\"tight\", figsize=(9, 4))\n",
    "im = ax.imshow(\n",
    "    scores_co.mean(axis=0),\n",
    "    interpolation=\"lanczos\",\n",
    "    origin=\"lower\",\n",
    "    cmap=\"RdBu_r\",\n",
    "    extent=epochs.times[[0, -1, 40, -1]],\n",
    "    vmin=0.235,\n",
    "    vmax=0.265,\n",
    ")\n",
    "ax.set_xlabel(\"Testing Time (s)\")\n",
    "ax.set_ylabel(\"Training Time (s)\")\n",
    "ax.set_title(\"Trained on random trials\")\n",
    "ax.axvline(0, color=\"k\")\n",
    "ax.axhline(0, color=\"k\")\n",
    "cbar = plt.colorbar(im, ax=ax)\n",
    "cbar.set_label(\"Decoding accuracy\")"
   ]
  },
  {
   "cell_type": "markdown",
   "id": "2c9b5c74",
   "metadata": {},
   "source": []
  }
 ],
 "metadata": {
  "kernelspec": {
   "display_name": "venv (3.10.9)",
   "language": "python",
   "name": "python3"
  },
  "language_info": {
   "codemirror_mode": {
    "name": "ipython",
    "version": 3
   },
   "file_extension": ".py",
   "mimetype": "text/x-python",
   "name": "python",
   "nbconvert_exporter": "python",
   "pygments_lexer": "ipython3",
   "version": "3.10.9"
  }
 },
 "nbformat": 4,
 "nbformat_minor": 5
}
