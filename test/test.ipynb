{
 "cells": [
  {
   "cell_type": "code",
   "execution_count": 1,
   "id": "40e08a51",
   "metadata": {},
   "outputs": [],
   "source": [
    "%matplotlib qt\n",
    "from pathlib import Path\n",
    "import numpy as np\n",
    "import pandas as pd\n",
    "import matplotlib.pyplot as plt\n",
    "import seaborn as sns\n",
    "import mne"
   ]
  },
  {
   "cell_type": "markdown",
   "id": "8c5e6d11",
   "metadata": {},
   "source": [
    "Load data"
   ]
  },
  {
   "cell_type": "code",
   "execution_count": 6,
   "id": "bdccb936",
   "metadata": {},
   "outputs": [],
   "source": [
    "main_dir = Path(\"/Volumes/Extreme_SSD/payam_data/Tinreg\")\n",
    "epochs_dir = main_dir / \"epochs\"\n",
    "scores_dir = main_dir / \"scores\"\n",
    "coeffs_dir = main_dir / \"coeffs\"\n",
    "stcs_dir = main_dir / \"stcs\"\n",
    "\n",
    "df_subjects = pd.read_csv(\"../sample/tinreg_master.csv\")\n",
    "df_subjects[\"ID\"] = df_subjects[\"ID\"].str.lower()\n",
    "df_subjects.dropna(inplace=True)\n",
    "df_subjects.set_index(\"ID\", inplace=True)\n",
    "df_subjects[\"group\"] = df_subjects[\"group\"].map({\"T\": \"Tinnitus\", \"C\": \"Control\"})\n",
    "\n",
    "cmap1 = sns.cubehelix_palette(rot=-.2).as_hex()\n",
    "cmap2 = sns.cubehelix_palette(gamma=.5).as_hex()\n",
    "subjects = np.unique([fname.stem[:4] for fname in scores_dir.iterdir()])"
   ]
  },
  {
   "cell_type": "code",
   "execution_count": 7,
   "id": "e9fdf98d",
   "metadata": {},
   "outputs": [
    {
     "name": "stderr",
     "output_type": "stream",
     "text": [
      "/var/folders/20/hsy69tx529ndn3rkv5gzcf0c0000gn/T/ipykernel_4857/2410499184.py:7: RuntimeWarning: More events than default colors available. You should pass a list of unique colors.\n",
      "  mne.viz.plot_events(\n"
     ]
    }
   ],
   "source": [
    "## How does the events look like?\n",
    "\n",
    "fname = epochs_dir / \"asjt-epo.fif\"\n",
    "epochs_sample = mne.read_epochs(fname, verbose=False)\n",
    "\n",
    "fig, ax = plt.subplots(1, 1, figsize=(10, 4), layout=\"tight\")\n",
    "mne.viz.plot_events(\n",
    "                    epochs_sample.events,\n",
    "                    sfreq=epochs_sample.info[\"sfreq\"],\n",
    "                    event_id=epochs_sample.event_id,\n",
    "                    axes=ax\n",
    "                    )\n",
    "ax.spines[[\"right\", \"top\"]].set_visible(False)\n",
    "ax.get_legend().remove()"
   ]
  },
  {
   "cell_type": "code",
   "execution_count": 10,
   "id": "1ce8778d",
   "metadata": {},
   "outputs": [
    {
     "name": "stderr",
     "output_type": "stream",
     "text": [
      "/var/folders/20/hsy69tx529ndn3rkv5gzcf0c0000gn/T/ipykernel_4857/1824425339.py:20: RuntimeWarning: Channel(s) O1, O2, PO7, PO8 not found, nothing dropped.\n",
      "  ev.drop_channels([\"O1\", \"O2\", \"PO7\", \"PO8\"], on_missing=\"warn\")\n",
      "/var/folders/20/hsy69tx529ndn3rkv5gzcf0c0000gn/T/ipykernel_4857/1824425339.py:20: RuntimeWarning: Channel(s) O1, O2, PO7, PO8 not found, nothing dropped.\n",
      "  ev.drop_channels([\"O1\", \"O2\", \"PO7\", \"PO8\"], on_missing=\"warn\")\n",
      "/var/folders/20/hsy69tx529ndn3rkv5gzcf0c0000gn/T/ipykernel_4857/1824425339.py:20: RuntimeWarning: Channel(s) O1, O2, PO7, PO8 not found, nothing dropped.\n",
      "  ev.drop_channels([\"O1\", \"O2\", \"PO7\", \"PO8\"], on_missing=\"warn\")\n",
      "/var/folders/20/hsy69tx529ndn3rkv5gzcf0c0000gn/T/ipykernel_4857/1824425339.py:20: RuntimeWarning: Channel(s) O1, O2, PO7, PO8 not found, nothing dropped.\n",
      "  ev.drop_channels([\"O1\", \"O2\", \"PO7\", \"PO8\"], on_missing=\"warn\")\n",
      "/var/folders/20/hsy69tx529ndn3rkv5gzcf0c0000gn/T/ipykernel_4857/1824425339.py:20: RuntimeWarning: Channel(s) O1, O2, PO7, PO8 not found, nothing dropped.\n",
      "  ev.drop_channels([\"O1\", \"O2\", \"PO7\", \"PO8\"], on_missing=\"warn\")\n",
      "/var/folders/20/hsy69tx529ndn3rkv5gzcf0c0000gn/T/ipykernel_4857/1824425339.py:20: RuntimeWarning: Channel(s) O1, O2, PO7, PO8 not found, nothing dropped.\n",
      "  ev.drop_channels([\"O1\", \"O2\", \"PO7\", \"PO8\"], on_missing=\"warn\")\n",
      "/var/folders/20/hsy69tx529ndn3rkv5gzcf0c0000gn/T/ipykernel_4857/1824425339.py:20: RuntimeWarning: Channel(s) O1, O2, PO7, PO8 not found, nothing dropped.\n",
      "  ev.drop_channels([\"O1\", \"O2\", \"PO7\", \"PO8\"], on_missing=\"warn\")\n",
      "/var/folders/20/hsy69tx529ndn3rkv5gzcf0c0000gn/T/ipykernel_4857/1824425339.py:20: RuntimeWarning: Channel(s) O1, O2, PO7, PO8 not found, nothing dropped.\n",
      "  ev.drop_channels([\"O1\", \"O2\", \"PO7\", \"PO8\"], on_missing=\"warn\")\n",
      "/var/folders/20/hsy69tx529ndn3rkv5gzcf0c0000gn/T/ipykernel_4857/1824425339.py:20: RuntimeWarning: Channel(s) O1, O2, PO7, PO8 not found, nothing dropped.\n",
      "  ev.drop_channels([\"O1\", \"O2\", \"PO7\", \"PO8\"], on_missing=\"warn\")\n"
     ]
    }
   ],
   "source": [
    "## How does the ERPs look like?\n",
    "\n",
    "mod1 = \"std\"\n",
    "mod2 = \"rndm\"\n",
    "keys = [key for key in list(epochs_sample.event_id.keys()) if key.endswith(f\"{mod1}_{mod2}\")]\n",
    "\n",
    "evs_co, evs_ti = [], []\n",
    "for fname in epochs_dir.iterdir():\n",
    "    if fname.stem.startswith(\".\"):\n",
    "        continue\n",
    "    subject = fname.stem[:4]\n",
    "    group = df_subjects.loc[subject, \"group\"]\n",
    "    if group == \"Control\":\n",
    "        evs_co.append(mne.read_epochs(fname, verbose=False)[keys].average())\n",
    "    if group == \"Tinnitus\":\n",
    "        evs_ti.append(mne.read_epochs(fname, verbose=False)[keys].average())\n",
    "\n",
    "for mod in [evs_co, evs_ti]:\n",
    "    for ev in mod:\n",
    "        ev.drop_channels([\"O1\", \"O2\", \"PO7\", \"PO8\"], on_missing=\"warn\")\n",
    "\n",
    "evs_dict = {\"Control\": evs_co,\n",
    "            \"Tinnitus\": evs_ti}\n",
    "\n",
    "fig = mne.viz.plot_compare_evokeds(evs_dict, truncate_xaxis=False, time_unit='ms',\n",
    "                                    colors={\"Control\": cmap1[3], \"Tinnitus\": cmap2[5]},\n",
    "                                    picks=\"Cz\", ylim=dict(eeg=[-1.5, 1.5]),\n",
    "                                    title=f\"{mod1} frequency & {mod2}\")\n",
    "\n",
    "for coll in fig[0].axes[0].collections:\n",
    "    coll.set_alpha(0.1)\n",
    "leg = fig[0].axes[0].get_legend()\n",
    "leg.set_frame_on(False)\n",
    "fig[0].set_size_inches(8, 4)\n",
    "\n",
    "for line in fig[0].axes[0].get_lines():\n",
    "    line.set_linewidth(2.5)\n"
   ]
  },
  {
   "cell_type": "markdown",
   "id": "7374c1cf",
   "metadata": {},
   "source": [
    "check"
   ]
  },
  {
   "cell_type": "code",
   "execution_count": 26,
   "id": "d68f41ea",
   "metadata": {},
   "outputs": [],
   "source": [
    "from sklearn.linear_model import LogisticRegression\n",
    "from sklearn.pipeline import make_pipeline\n",
    "from sklearn.preprocessing import StandardScaler\n",
    "from sklearn.discriminant_analysis import LinearDiscriminantAnalysis\n",
    "from sklearn.linear_model import RidgeClassifierCV\n",
    "from sklearn.svm import LinearSVC\n",
    "\n",
    "import mne\n",
    "from mne.datasets import sample\n",
    "from mne.decoding import (\n",
    "    CSP,\n",
    "    GeneralizingEstimator,\n",
    "    LinearModel,\n",
    "    Scaler,\n",
    "    SlidingEstimator,\n",
    "    Vectorizer,\n",
    "    cross_val_multiscore,\n",
    "    get_coef,\n",
    ")"
   ]
  },
  {
   "cell_type": "code",
   "execution_count": 27,
   "id": "266777ce",
   "metadata": {},
   "outputs": [
    {
     "name": "stdout",
     "output_type": "stream",
     "text": [
      "Reading /Volumes/Extreme_SSD/payam_data/Tinreg/epochs/bctw-epo.fif ...\n",
      "    Found the data of interest:\n",
      "        t =    -400.00 ...     490.00 ms\n",
      "        0 CTF compensation matrices available\n",
      "Not setting metadata\n",
      "6000 matching events found\n",
      "No baseline correction applied\n",
      "0 projection items activated\n"
     ]
    },
    {
     "data": {
      "application/vnd.jupyter.widget-view+json": {
       "model_id": "3e996906e1ee4351baf65ad16f7672e1",
       "version_major": 2,
       "version_minor": 0
      },
      "text/plain": [
       "  0%|          | Fitting GeneralizingEstimator : 0/90 [00:00<?,       ?it/s]"
      ]
     },
     "metadata": {},
     "output_type": "display_data"
    },
    {
     "data": {
      "application/vnd.jupyter.widget-view+json": {
       "model_id": "daa6a7b913834ab8af811984ac074efc",
       "version_major": 2,
       "version_minor": 0
      },
      "text/plain": [
       "  0%|          | Scoring GeneralizingEstimator : 0/8100 [00:00<?,       ?it/s]"
      ]
     },
     "metadata": {},
     "output_type": "display_data"
    },
    {
     "data": {
      "application/vnd.jupyter.widget-view+json": {
       "model_id": "70690b93628c4050bb8ebe97dd8ceecc",
       "version_major": 2,
       "version_minor": 0
      },
      "text/plain": [
       "  0%|          | Fitting GeneralizingEstimator : 0/90 [00:00<?,       ?it/s]"
      ]
     },
     "metadata": {},
     "output_type": "display_data"
    },
    {
     "data": {
      "application/vnd.jupyter.widget-view+json": {
       "model_id": "6c64ba17eb314e48886cc029af9e7d8e",
       "version_major": 2,
       "version_minor": 0
      },
      "text/plain": [
       "  0%|          | Scoring GeneralizingEstimator : 0/8100 [00:00<?,       ?it/s]"
      ]
     },
     "metadata": {},
     "output_type": "display_data"
    },
    {
     "name": "stdout",
     "output_type": "stream",
     "text": [
      "Reading /Volumes/Extreme_SSD/payam_data/Tinreg/epochs/bkai-epo.fif ...\n",
      "    Found the data of interest:\n",
      "        t =    -400.00 ...     490.00 ms\n",
      "        0 CTF compensation matrices available\n",
      "Not setting metadata\n",
      "6000 matching events found\n",
      "No baseline correction applied\n",
      "0 projection items activated\n"
     ]
    },
    {
     "data": {
      "application/vnd.jupyter.widget-view+json": {
       "model_id": "19abd6846c4148cda8d82dacee85f18d",
       "version_major": 2,
       "version_minor": 0
      },
      "text/plain": [
       "  0%|          | Fitting GeneralizingEstimator : 0/90 [00:00<?,       ?it/s]"
      ]
     },
     "metadata": {},
     "output_type": "display_data"
    },
    {
     "data": {
      "application/vnd.jupyter.widget-view+json": {
       "model_id": "2eff95b2b9aa4999adc924057cf570ab",
       "version_major": 2,
       "version_minor": 0
      },
      "text/plain": [
       "  0%|          | Scoring GeneralizingEstimator : 0/8100 [00:00<?,       ?it/s]"
      ]
     },
     "metadata": {},
     "output_type": "display_data"
    },
    {
     "data": {
      "application/vnd.jupyter.widget-view+json": {
       "model_id": "619a50fc537c4b65a04f970c78ff0bb0",
       "version_major": 2,
       "version_minor": 0
      },
      "text/plain": [
       "  0%|          | Fitting GeneralizingEstimator : 0/90 [00:00<?,       ?it/s]"
      ]
     },
     "metadata": {},
     "output_type": "display_data"
    },
    {
     "data": {
      "application/vnd.jupyter.widget-view+json": {
       "model_id": "e5be963b5d8d4fa6b9a796d23aad080a",
       "version_major": 2,
       "version_minor": 0
      },
      "text/plain": [
       "  0%|          | Scoring GeneralizingEstimator : 0/8100 [00:00<?,       ?it/s]"
      ]
     },
     "metadata": {},
     "output_type": "display_data"
    },
    {
     "name": "stdout",
     "output_type": "stream",
     "text": [
      "Reading /Volumes/Extreme_SSD/payam_data/Tinreg/epochs/dyqe-epo.fif ...\n",
      "    Found the data of interest:\n",
      "        t =    -400.00 ...     490.00 ms\n",
      "        0 CTF compensation matrices available\n",
      "Not setting metadata\n",
      "6000 matching events found\n",
      "No baseline correction applied\n",
      "0 projection items activated\n"
     ]
    },
    {
     "data": {
      "application/vnd.jupyter.widget-view+json": {
       "model_id": "b8c2af1442f94411be2cdf301bc00eee",
       "version_major": 2,
       "version_minor": 0
      },
      "text/plain": [
       "  0%|          | Fitting GeneralizingEstimator : 0/90 [00:00<?,       ?it/s]"
      ]
     },
     "metadata": {},
     "output_type": "display_data"
    },
    {
     "data": {
      "application/vnd.jupyter.widget-view+json": {
       "model_id": "c3ab3922ecfe4c1a95d9e13d02dce75c",
       "version_major": 2,
       "version_minor": 0
      },
      "text/plain": [
       "  0%|          | Scoring GeneralizingEstimator : 0/8100 [00:00<?,       ?it/s]"
      ]
     },
     "metadata": {},
     "output_type": "display_data"
    },
    {
     "data": {
      "application/vnd.jupyter.widget-view+json": {
       "model_id": "97b47d02ba2b468aa11f987661d1b506",
       "version_major": 2,
       "version_minor": 0
      },
      "text/plain": [
       "  0%|          | Fitting GeneralizingEstimator : 0/90 [00:00<?,       ?it/s]"
      ]
     },
     "metadata": {},
     "output_type": "display_data"
    },
    {
     "data": {
      "application/vnd.jupyter.widget-view+json": {
       "model_id": "efa48330a0fa4b1586a0b1bbb5a99195",
       "version_major": 2,
       "version_minor": 0
      },
      "text/plain": [
       "  0%|          | Scoring GeneralizingEstimator : 0/8100 [00:00<?,       ?it/s]"
      ]
     },
     "metadata": {},
     "output_type": "display_data"
    },
    {
     "name": "stdout",
     "output_type": "stream",
     "text": [
      "Reading /Volumes/Extreme_SSD/payam_data/Tinreg/epochs/gwld-epo.fif ...\n",
      "    Found the data of interest:\n",
      "        t =    -400.00 ...     490.00 ms\n",
      "        0 CTF compensation matrices available\n",
      "Not setting metadata\n",
      "6000 matching events found\n",
      "No baseline correction applied\n",
      "0 projection items activated\n"
     ]
    },
    {
     "data": {
      "application/vnd.jupyter.widget-view+json": {
       "model_id": "51709bdc789f4671a6112b704d272684",
       "version_major": 2,
       "version_minor": 0
      },
      "text/plain": [
       "  0%|          | Fitting GeneralizingEstimator : 0/90 [00:00<?,       ?it/s]"
      ]
     },
     "metadata": {},
     "output_type": "display_data"
    },
    {
     "data": {
      "application/vnd.jupyter.widget-view+json": {
       "model_id": "be3e809aacdc4048a88179875eeb0a4e",
       "version_major": 2,
       "version_minor": 0
      },
      "text/plain": [
       "  0%|          | Scoring GeneralizingEstimator : 0/8100 [00:00<?,       ?it/s]"
      ]
     },
     "metadata": {},
     "output_type": "display_data"
    },
    {
     "data": {
      "application/vnd.jupyter.widget-view+json": {
       "model_id": "1967f6727c92467d819f0d7f4aeb591d",
       "version_major": 2,
       "version_minor": 0
      },
      "text/plain": [
       "  0%|          | Fitting GeneralizingEstimator : 0/90 [00:00<?,       ?it/s]"
      ]
     },
     "metadata": {},
     "output_type": "display_data"
    },
    {
     "data": {
      "application/vnd.jupyter.widget-view+json": {
       "model_id": "1acce4161a9a4664b8c89c5250d01d31",
       "version_major": 2,
       "version_minor": 0
      },
      "text/plain": [
       "  0%|          | Scoring GeneralizingEstimator : 0/8100 [00:00<?,       ?it/s]"
      ]
     },
     "metadata": {},
     "output_type": "display_data"
    },
    {
     "name": "stdout",
     "output_type": "stream",
     "text": [
      "Reading /Volumes/Extreme_SSD/payam_data/Tinreg/epochs/jgdi-epo.fif ...\n",
      "    Found the data of interest:\n",
      "        t =    -400.00 ...     490.00 ms\n",
      "        0 CTF compensation matrices available\n",
      "Not setting metadata\n",
      "6000 matching events found\n",
      "No baseline correction applied\n",
      "0 projection items activated\n"
     ]
    },
    {
     "data": {
      "application/vnd.jupyter.widget-view+json": {
       "model_id": "0a8ff6f1afe8464f83045551c5508c0b",
       "version_major": 2,
       "version_minor": 0
      },
      "text/plain": [
       "  0%|          | Fitting GeneralizingEstimator : 0/90 [00:00<?,       ?it/s]"
      ]
     },
     "metadata": {},
     "output_type": "display_data"
    },
    {
     "data": {
      "application/vnd.jupyter.widget-view+json": {
       "model_id": "6adb0c03cb2b42b68d33198f31385abe",
       "version_major": 2,
       "version_minor": 0
      },
      "text/plain": [
       "  0%|          | Scoring GeneralizingEstimator : 0/8100 [00:00<?,       ?it/s]"
      ]
     },
     "metadata": {},
     "output_type": "display_data"
    },
    {
     "data": {
      "application/vnd.jupyter.widget-view+json": {
       "model_id": "333eabbff61a4b69b11c7fe9bf034424",
       "version_major": 2,
       "version_minor": 0
      },
      "text/plain": [
       "  0%|          | Fitting GeneralizingEstimator : 0/90 [00:00<?,       ?it/s]"
      ]
     },
     "metadata": {},
     "output_type": "display_data"
    },
    {
     "data": {
      "application/vnd.jupyter.widget-view+json": {
       "model_id": "a1bb2980dd374ee6b1633d4bf4df5941",
       "version_major": 2,
       "version_minor": 0
      },
      "text/plain": [
       "  0%|          | Scoring GeneralizingEstimator : 0/8100 [00:00<?,       ?it/s]"
      ]
     },
     "metadata": {},
     "output_type": "display_data"
    },
    {
     "name": "stdout",
     "output_type": "stream",
     "text": [
      "Reading /Volumes/Extreme_SSD/payam_data/Tinreg/epochs/lxot-epo.fif ...\n",
      "    Found the data of interest:\n",
      "        t =    -400.00 ...     490.00 ms\n",
      "        0 CTF compensation matrices available\n",
      "Not setting metadata\n",
      "6000 matching events found\n",
      "No baseline correction applied\n",
      "0 projection items activated\n"
     ]
    },
    {
     "data": {
      "application/vnd.jupyter.widget-view+json": {
       "model_id": "802d5b6c2c6147d996137e5c24030c95",
       "version_major": 2,
       "version_minor": 0
      },
      "text/plain": [
       "  0%|          | Fitting GeneralizingEstimator : 0/90 [00:00<?,       ?it/s]"
      ]
     },
     "metadata": {},
     "output_type": "display_data"
    },
    {
     "data": {
      "application/vnd.jupyter.widget-view+json": {
       "model_id": "a4ad4ffef6e44011ae3ca434e7562d6c",
       "version_major": 2,
       "version_minor": 0
      },
      "text/plain": [
       "  0%|          | Scoring GeneralizingEstimator : 0/8100 [00:00<?,       ?it/s]"
      ]
     },
     "metadata": {},
     "output_type": "display_data"
    },
    {
     "data": {
      "application/vnd.jupyter.widget-view+json": {
       "model_id": "f0e3f408ed3343afafd14a9961ccbaf1",
       "version_major": 2,
       "version_minor": 0
      },
      "text/plain": [
       "  0%|          | Fitting GeneralizingEstimator : 0/90 [00:00<?,       ?it/s]"
      ]
     },
     "metadata": {},
     "output_type": "display_data"
    },
    {
     "data": {
      "application/vnd.jupyter.widget-view+json": {
       "model_id": "5eb94c61b4a040bbb18b23ad5f849ba5",
       "version_major": 2,
       "version_minor": 0
      },
      "text/plain": [
       "  0%|          | Scoring GeneralizingEstimator : 0/8100 [00:00<?,       ?it/s]"
      ]
     },
     "metadata": {},
     "output_type": "display_data"
    },
    {
     "name": "stdout",
     "output_type": "stream",
     "text": [
      "Reading /Volumes/Extreme_SSD/payam_data/Tinreg/epochs/pfyq-epo.fif ...\n",
      "    Found the data of interest:\n",
      "        t =    -400.00 ...     490.00 ms\n",
      "        0 CTF compensation matrices available\n",
      "Not setting metadata\n",
      "6001 matching events found\n",
      "No baseline correction applied\n",
      "0 projection items activated\n"
     ]
    },
    {
     "data": {
      "application/vnd.jupyter.widget-view+json": {
       "model_id": "c80e1440ff334623952aeba701ad70d1",
       "version_major": 2,
       "version_minor": 0
      },
      "text/plain": [
       "  0%|          | Fitting GeneralizingEstimator : 0/90 [00:00<?,       ?it/s]"
      ]
     },
     "metadata": {},
     "output_type": "display_data"
    },
    {
     "data": {
      "application/vnd.jupyter.widget-view+json": {
       "model_id": "e6c9c09f2b2d41a28557313a111fc718",
       "version_major": 2,
       "version_minor": 0
      },
      "text/plain": [
       "  0%|          | Scoring GeneralizingEstimator : 0/8100 [00:00<?,       ?it/s]"
      ]
     },
     "metadata": {},
     "output_type": "display_data"
    },
    {
     "data": {
      "application/vnd.jupyter.widget-view+json": {
       "model_id": "a8e79ff1bf4f4b228e5b77609a939851",
       "version_major": 2,
       "version_minor": 0
      },
      "text/plain": [
       "  0%|          | Fitting GeneralizingEstimator : 0/90 [00:00<?,       ?it/s]"
      ]
     },
     "metadata": {},
     "output_type": "display_data"
    },
    {
     "data": {
      "application/vnd.jupyter.widget-view+json": {
       "model_id": "30e8e99a13984753bb37b45dfe13b610",
       "version_major": 2,
       "version_minor": 0
      },
      "text/plain": [
       "  0%|          | Scoring GeneralizingEstimator : 0/8100 [00:00<?,       ?it/s]"
      ]
     },
     "metadata": {},
     "output_type": "display_data"
    },
    {
     "name": "stdout",
     "output_type": "stream",
     "text": [
      "Reading /Volumes/Extreme_SSD/payam_data/Tinreg/epochs/rojk-epo.fif ...\n",
      "    Found the data of interest:\n",
      "        t =    -400.00 ...     490.00 ms\n",
      "        0 CTF compensation matrices available\n",
      "Not setting metadata\n",
      "5965 matching events found\n",
      "No baseline correction applied\n",
      "0 projection items activated\n"
     ]
    },
    {
     "data": {
      "application/vnd.jupyter.widget-view+json": {
       "model_id": "0be0bf434710494c859809085a7e5f29",
       "version_major": 2,
       "version_minor": 0
      },
      "text/plain": [
       "  0%|          | Fitting GeneralizingEstimator : 0/90 [00:00<?,       ?it/s]"
      ]
     },
     "metadata": {},
     "output_type": "display_data"
    },
    {
     "data": {
      "application/vnd.jupyter.widget-view+json": {
       "model_id": "eafa6576fa734460b52b12d7db0665e6",
       "version_major": 2,
       "version_minor": 0
      },
      "text/plain": [
       "  0%|          | Scoring GeneralizingEstimator : 0/8100 [00:00<?,       ?it/s]"
      ]
     },
     "metadata": {},
     "output_type": "display_data"
    },
    {
     "data": {
      "application/vnd.jupyter.widget-view+json": {
       "model_id": "3de33248bf434c74a3873c2b52203df3",
       "version_major": 2,
       "version_minor": 0
      },
      "text/plain": [
       "  0%|          | Fitting GeneralizingEstimator : 0/90 [00:00<?,       ?it/s]"
      ]
     },
     "metadata": {},
     "output_type": "display_data"
    },
    {
     "data": {
      "application/vnd.jupyter.widget-view+json": {
       "model_id": "33989911c2e541f596294a61f78f6d39",
       "version_major": 2,
       "version_minor": 0
      },
      "text/plain": [
       "  0%|          | Scoring GeneralizingEstimator : 0/8100 [00:00<?,       ?it/s]"
      ]
     },
     "metadata": {},
     "output_type": "display_data"
    },
    {
     "name": "stdout",
     "output_type": "stream",
     "text": [
      "Reading /Volumes/Extreme_SSD/payam_data/Tinreg/epochs/sgwy-epo.fif ...\n",
      "    Found the data of interest:\n",
      "        t =    -400.00 ...     490.00 ms\n",
      "        0 CTF compensation matrices available\n",
      "Not setting metadata\n",
      "6000 matching events found\n",
      "No baseline correction applied\n",
      "0 projection items activated\n"
     ]
    },
    {
     "data": {
      "application/vnd.jupyter.widget-view+json": {
       "model_id": "18c560291f76424f88518c1bc210aeb0",
       "version_major": 2,
       "version_minor": 0
      },
      "text/plain": [
       "  0%|          | Fitting GeneralizingEstimator : 0/90 [00:00<?,       ?it/s]"
      ]
     },
     "metadata": {},
     "output_type": "display_data"
    },
    {
     "data": {
      "application/vnd.jupyter.widget-view+json": {
       "model_id": "96e165fc36b94d7e8adb00f33f0278ac",
       "version_major": 2,
       "version_minor": 0
      },
      "text/plain": [
       "  0%|          | Scoring GeneralizingEstimator : 0/8100 [00:00<?,       ?it/s]"
      ]
     },
     "metadata": {},
     "output_type": "display_data"
    },
    {
     "data": {
      "application/vnd.jupyter.widget-view+json": {
       "model_id": "1ed17531f05242a5ac5c7b134e2eecc3",
       "version_major": 2,
       "version_minor": 0
      },
      "text/plain": [
       "  0%|          | Fitting GeneralizingEstimator : 0/90 [00:00<?,       ?it/s]"
      ]
     },
     "metadata": {},
     "output_type": "display_data"
    },
    {
     "data": {
      "application/vnd.jupyter.widget-view+json": {
       "model_id": "894fe15f9e2d48e3adf1ed21c855ec6e",
       "version_major": 2,
       "version_minor": 0
      },
      "text/plain": [
       "  0%|          | Scoring GeneralizingEstimator : 0/8100 [00:00<?,       ?it/s]"
      ]
     },
     "metadata": {},
     "output_type": "display_data"
    },
    {
     "name": "stdout",
     "output_type": "stream",
     "text": [
      "Reading /Volumes/Extreme_SSD/payam_data/Tinreg/epochs/tmlj-epo.fif ...\n",
      "    Found the data of interest:\n",
      "        t =    -400.00 ...     490.00 ms\n",
      "        0 CTF compensation matrices available\n",
      "Not setting metadata\n",
      "6000 matching events found\n",
      "No baseline correction applied\n",
      "0 projection items activated\n"
     ]
    },
    {
     "data": {
      "application/vnd.jupyter.widget-view+json": {
       "model_id": "398fbbf036de448296460564a5fcbf9d",
       "version_major": 2,
       "version_minor": 0
      },
      "text/plain": [
       "  0%|          | Fitting GeneralizingEstimator : 0/90 [00:00<?,       ?it/s]"
      ]
     },
     "metadata": {},
     "output_type": "display_data"
    },
    {
     "data": {
      "application/vnd.jupyter.widget-view+json": {
       "model_id": "13ceecc27cd64280a9058171d41be01d",
       "version_major": 2,
       "version_minor": 0
      },
      "text/plain": [
       "  0%|          | Scoring GeneralizingEstimator : 0/8100 [00:00<?,       ?it/s]"
      ]
     },
     "metadata": {},
     "output_type": "display_data"
    },
    {
     "data": {
      "application/vnd.jupyter.widget-view+json": {
       "model_id": "c36adb4f7fcc40fa8d8841c96774eb4d",
       "version_major": 2,
       "version_minor": 0
      },
      "text/plain": [
       "  0%|          | Fitting GeneralizingEstimator : 0/90 [00:00<?,       ?it/s]"
      ]
     },
     "metadata": {},
     "output_type": "display_data"
    },
    {
     "data": {
      "application/vnd.jupyter.widget-view+json": {
       "model_id": "12f7a55bb75244d8a0172cbaf776e52c",
       "version_major": 2,
       "version_minor": 0
      },
      "text/plain": [
       "  0%|          | Scoring GeneralizingEstimator : 0/8100 [00:00<?,       ?it/s]"
      ]
     },
     "metadata": {},
     "output_type": "display_data"
    },
    {
     "name": "stdout",
     "output_type": "stream",
     "text": [
      "Reading /Volumes/Extreme_SSD/payam_data/Tinreg/epochs/tzdz-epo.fif ...\n",
      "    Found the data of interest:\n",
      "        t =    -400.00 ...     490.00 ms\n",
      "        0 CTF compensation matrices available\n",
      "Not setting metadata\n",
      "6000 matching events found\n",
      "No baseline correction applied\n",
      "0 projection items activated\n"
     ]
    },
    {
     "data": {
      "application/vnd.jupyter.widget-view+json": {
       "model_id": "8dd2fc83a1e44018842ddae052ca7b45",
       "version_major": 2,
       "version_minor": 0
      },
      "text/plain": [
       "  0%|          | Fitting GeneralizingEstimator : 0/90 [00:00<?,       ?it/s]"
      ]
     },
     "metadata": {},
     "output_type": "display_data"
    },
    {
     "data": {
      "application/vnd.jupyter.widget-view+json": {
       "model_id": "d5a08beabdbe4660989309061f3738e8",
       "version_major": 2,
       "version_minor": 0
      },
      "text/plain": [
       "  0%|          | Scoring GeneralizingEstimator : 0/8100 [00:00<?,       ?it/s]"
      ]
     },
     "metadata": {},
     "output_type": "display_data"
    },
    {
     "data": {
      "application/vnd.jupyter.widget-view+json": {
       "model_id": "2b432f756c0e45b49d5857f0ea346be6",
       "version_major": 2,
       "version_minor": 0
      },
      "text/plain": [
       "  0%|          | Fitting GeneralizingEstimator : 0/90 [00:00<?,       ?it/s]"
      ]
     },
     "metadata": {},
     "output_type": "display_data"
    },
    {
     "data": {
      "application/vnd.jupyter.widget-view+json": {
       "model_id": "1a8415e88299478d9765ea0ecfedf4f6",
       "version_major": 2,
       "version_minor": 0
      },
      "text/plain": [
       "  0%|          | Scoring GeneralizingEstimator : 0/8100 [00:00<?,       ?it/s]"
      ]
     },
     "metadata": {},
     "output_type": "display_data"
    },
    {
     "name": "stdout",
     "output_type": "stream",
     "text": [
      "Reading /Volumes/Extreme_SSD/payam_data/Tinreg/epochs/udul-epo.fif ...\n",
      "    Found the data of interest:\n",
      "        t =    -400.00 ...     490.00 ms\n",
      "        0 CTF compensation matrices available\n",
      "Not setting metadata\n",
      "6000 matching events found\n",
      "No baseline correction applied\n",
      "0 projection items activated\n"
     ]
    },
    {
     "data": {
      "application/vnd.jupyter.widget-view+json": {
       "model_id": "5d5a2cbbfb494abbb26fb9a60ef04059",
       "version_major": 2,
       "version_minor": 0
      },
      "text/plain": [
       "  0%|          | Fitting GeneralizingEstimator : 0/90 [00:00<?,       ?it/s]"
      ]
     },
     "metadata": {},
     "output_type": "display_data"
    },
    {
     "data": {
      "application/vnd.jupyter.widget-view+json": {
       "model_id": "3d3285110a0d4d89a62ce2d54f9894dd",
       "version_major": 2,
       "version_minor": 0
      },
      "text/plain": [
       "  0%|          | Scoring GeneralizingEstimator : 0/8100 [00:00<?,       ?it/s]"
      ]
     },
     "metadata": {},
     "output_type": "display_data"
    },
    {
     "data": {
      "application/vnd.jupyter.widget-view+json": {
       "model_id": "a30a25a2d45b443f8626d3dab9275a0f",
       "version_major": 2,
       "version_minor": 0
      },
      "text/plain": [
       "  0%|          | Fitting GeneralizingEstimator : 0/90 [00:00<?,       ?it/s]"
      ]
     },
     "metadata": {},
     "output_type": "display_data"
    },
    {
     "data": {
      "application/vnd.jupyter.widget-view+json": {
       "model_id": "e0a48ae256694347b098fd1979174bd4",
       "version_major": 2,
       "version_minor": 0
      },
      "text/plain": [
       "  0%|          | Scoring GeneralizingEstimator : 0/8100 [00:00<?,       ?it/s]"
      ]
     },
     "metadata": {},
     "output_type": "display_data"
    }
   ],
   "source": [
    "all_scores = []\n",
    "for subject in subjects:\n",
    "    group = df_subjects.loc[subject, \"group\"]\n",
    "    if group == \"Control\":\n",
    "        fname = epochs_dir / f\"{subject}-epo.fif\"\n",
    "        epochs = mne.read_epochs(fname)\n",
    "        X = epochs[keys].get_data(picks=\"eeg\")\n",
    "        y = epochs[keys].events[:, 2]\n",
    "\n",
    "        clf = make_pipeline(\n",
    "                            StandardScaler(),\n",
    "                            LinearModel(LinearSVC(C=1.0))\n",
    "                            )\n",
    "        time_gen = GeneralizingEstimator(clf, n_jobs=None, scoring=\"accuracy\", verbose=True)\n",
    "        scores = cross_val_multiscore(time_gen, X, y, cv=2, n_jobs=None)\n",
    "        all_scores.append(np.mean(scores, axis=0))\n"
   ]
  },
  {
   "cell_type": "code",
   "execution_count": null,
   "id": "9d2f76bb",
   "metadata": {},
   "outputs": [],
   "source": [
    "scores = np.mean(all_scores, axis=0)\n",
    "scores.shape"
   ]
  },
  {
   "cell_type": "code",
   "execution_count": 31,
   "id": "860c1852",
   "metadata": {},
   "outputs": [
    {
     "data": {
      "text/plain": [
       "Text(0.5, 1.0, 'Decoding MEG sensors over time')"
      ]
     },
     "execution_count": 31,
     "metadata": {},
     "output_type": "execute_result"
    }
   ],
   "source": [
    "fig, ax = plt.subplots()\n",
    "ax.plot(epochs.times, np.diag(scores), label=\"score\")\n",
    "ax.axhline(0.25, color=\"k\", linestyle=\"--\", label=\"chance\")\n",
    "ax.set_xlabel(\"Times\")\n",
    "ax.set_ylabel(\"AUC\")\n",
    "ax.legend()\n",
    "ax.axvline(0.0, color=\"k\", linestyle=\"-\")\n",
    "ax.set_title(\"Decoding MEG sensors over time\")"
   ]
  },
  {
   "cell_type": "code",
   "execution_count": 32,
   "id": "8c59f3c3",
   "metadata": {},
   "outputs": [],
   "source": [
    "fig, ax = plt.subplots(1, 1)\n",
    "im = ax.imshow(\n",
    "    scores,\n",
    "    interpolation=\"lanczos\",\n",
    "    origin=\"lower\",\n",
    "    cmap=\"RdBu_r\",\n",
    "    extent=epochs.times[[0, -1, 0, -1]],\n",
    "    vmin=0.14,\n",
    "    vmax=0.36,\n",
    ")\n",
    "ax.set_xlabel(\"Testing Time (s)\")\n",
    "ax.set_ylabel(\"Training Time (s)\")\n",
    "ax.set_title(\"Temporal generalization\")\n",
    "ax.axvline(0, color=\"k\")\n",
    "ax.axhline(0, color=\"k\")\n",
    "cbar = plt.colorbar(im, ax=ax)\n",
    "cbar.set_label(\"AUC\")"
   ]
  },
  {
   "cell_type": "markdown",
   "id": "1516364e",
   "metadata": {},
   "source": [
    "Trained and tested on random trials"
   ]
  },
  {
   "cell_type": "code",
   "execution_count": 33,
   "id": "a5f0a3a1",
   "metadata": {},
   "outputs": [],
   "source": [
    "mode_1 = \"rnd\"\n",
    "mode_2 = \"standard\"\n",
    "scores_dict = {}\n",
    "groups_dict = {}\n",
    "\n",
    "for subject in subjects:\n",
    "    fname_po2po = scores_dir / f\"{subject}_{mode_1}_post2post_{mode_2}.npy\"\n",
    "    score_po2po = np.load(fname_po2po, allow_pickle=True) # n_cv, n_time_post, n_time_post (5, 50, 50)\n",
    "    \n",
    "    fname_po2pr = scores_dir / f\"{subject}_{mode_1}_post2pre_{mode_2}.npy\"\n",
    "    score_po2pr = np.load(fname_po2pr, allow_pickle=True) # n_cv, n_time_post, n_time_post (5, 50, 40)\n",
    "    \n",
    "    groups_dict[subject] = df_subjects.loc[subject, \"group\"]\n",
    "    scores_dict[subject] = np.concatenate(\n",
    "                                        [np.mean(score_po2pr, axis=0),\n",
    "                                        np.mean(score_po2po, axis=0)],\n",
    "                                        axis=-1\n",
    "                                        )\n",
    "\n",
    "scores_co = []\n",
    "scores_ti = []\n",
    "for subject, group in groups_dict.items():\n",
    "    if group == \"Control\":\n",
    "        scores_co.append(scores_dict[subject])\n",
    "    if group == \"Tinnitus\":\n",
    "        scores_ti.append(scores_dict[subject])\n",
    "\n",
    "scores_co = np.array(scores_co)\n",
    "scores_ti = np.array(scores_ti)    "
   ]
  },
  {
   "cell_type": "code",
   "execution_count": 34,
   "id": "75735a69",
   "metadata": {},
   "outputs": [
    {
     "data": {
      "text/plain": [
       "Text(0.5, 0, 'Time')"
      ]
     },
     "execution_count": 34,
     "metadata": {},
     "output_type": "execute_result"
    }
   ],
   "source": [
    "## 1D plot\n",
    "diag_po2po_co = np.array([np.diag(s) for s in scores_co[:, :, 40:]])\n",
    "diag_po2pr_co = np.array([np.diag(s) for s in scores_co[:, :, :40]])\n",
    "diag_po2po_ti = np.array([np.diag(s) for s in scores_ti[:, :, 40:]])\n",
    "diag_po2pr_ti = np.array([np.diag(s) for s in scores_ti[:, :, :40]])\n",
    "\n",
    "\n",
    "diag_co = np.concatenate([diag_po2pr_co, diag_po2po_co], axis=1)\n",
    "diag_ti = np.concatenate([diag_po2pr_ti, diag_po2po_ti], axis=1)\n",
    "mean1, std1 = diag_co.mean(axis=0), diag_co.std(axis=0)\n",
    "mean2, std2 = diag_ti.mean(axis=0), diag_ti.std(axis=0)\n",
    "\n",
    "fig, ax = plt.subplots(1, 1, layout=\"tight\", figsize=(9, 4))\n",
    "ax.plot(epochs.times, mean1, color=cmap1[3], label=\"Control\", lw=2)\n",
    "ax.fill_between(epochs.times, mean1-std1, mean1+std1, alpha=0.1, color=cmap1[3])\n",
    "ax.plot(epochs.times, mean2, color=cmap2[5], label=\"Tinnitus\", lw=2)\n",
    "ax.fill_between(epochs.times, mean2-std2, mean2+std2, alpha=0.1, color=cmap2[5])\n",
    "\n",
    "ax.vlines(0, 0.22, 0.28, linestyles=\"--\", color=\"k\")\n",
    "ax.hlines(0.25, -0.4, 0.5, linestyles=\"--\", color=\"grey\")\n",
    "ax.set_ylim([0.22, 0.28])\n",
    "ax.set_xlim([-0.4, 0.5])\n",
    "ax.spines[[\"right\", \"top\"]].set_visible(False)\n",
    "ax.legend(frameon=False)\n",
    "ax.set_ylabel(\"Decoding accuracy\")\n",
    "ax.set_title(\"Decoding on Random Trials\")\n",
    "ax.set_xlabel(\"Time\")"
   ]
  },
  {
   "cell_type": "code",
   "execution_count": 35,
   "id": "36c966dd",
   "metadata": {},
   "outputs": [],
   "source": [
    "## 2D plot\n",
    "fig, ax = plt.subplots(1, 1, layout=\"tight\", figsize=(9, 4))\n",
    "im = ax.imshow(\n",
    "    scores_co.mean(axis=0),\n",
    "    interpolation=\"lanczos\",\n",
    "    origin=\"lower\",\n",
    "    cmap=\"RdBu_r\",\n",
    "    extent=epochs.times[[0, -1, 40, -1]],\n",
    "    vmin=0.235,\n",
    "    vmax=0.265,\n",
    ")\n",
    "ax.set_xlabel(\"Testing Time (s)\")\n",
    "ax.set_ylabel(\"Training Time (s)\")\n",
    "ax.set_title(\"Trained on random trials\")\n",
    "ax.axvline(0, color=\"k\")\n",
    "ax.axhline(0, color=\"k\")\n",
    "cbar = plt.colorbar(im, ax=ax)\n",
    "cbar.set_label(\"Decoding accuracy\")"
   ]
  },
  {
   "cell_type": "markdown",
   "id": "0c6c73a5",
   "metadata": {},
   "source": [
    "Trained on Random trials and tested on Ordered trials"
   ]
  },
  {
   "cell_type": "code",
   "execution_count": 36,
   "id": "2c9b5c74",
   "metadata": {},
   "outputs": [],
   "source": [
    "subjects = np.unique([fname.stem[:4] for fname in scores_dir.iterdir()])\n",
    "mode_1 = \"ord\"\n",
    "mode_2 = \"standard\"\n",
    "scores_dict = {}\n",
    "groups_dict = {}\n",
    "\n",
    "for subject in subjects:\n",
    "    fname_po2po = scores_dir / f\"{subject}_{mode_1}_post2post_{mode_2}.npy\"\n",
    "    score_po2po = np.load(fname_po2po, allow_pickle=True) # n_cv, n_time_post, n_time_post (5, 50, 50)\n",
    "    \n",
    "    fname_po2pr = scores_dir / f\"{subject}_{mode_1}_post2pre_{mode_2}.npy\"\n",
    "    score_po2pr = np.load(fname_po2pr, allow_pickle=True) # n_cv, n_time_post, n_time_post (5, 50, 40)\n",
    "    \n",
    "    groups_dict[subject] = df_subjects.loc[subject, \"group\"]\n",
    "    scores_dict[subject] = np.concatenate([score_po2pr, score_po2po], axis=-1)\n",
    "\n",
    "scores_co = []\n",
    "scores_ti = []\n",
    "for subject, group in groups_dict.items():\n",
    "    if group == \"Control\":\n",
    "        scores_co.append(scores_dict[subject])\n",
    "    if group == \"Tinnitus\":\n",
    "        scores_ti.append(scores_dict[subject])\n",
    "\n",
    "scores_co = np.array(scores_co)\n",
    "scores_ti = np.array(scores_ti)  "
   ]
  },
  {
   "cell_type": "code",
   "execution_count": 37,
   "id": "fed9d981",
   "metadata": {},
   "outputs": [
    {
     "data": {
      "text/plain": [
       "array([[[0., 0., 0., ..., 0., 0., 0.],\n",
       "        [0., 0., 0., ..., 0., 0., 0.],\n",
       "        [0., 0., 0., ..., 0., 0., 0.],\n",
       "        ...,\n",
       "        [0., 0., 0., ..., 0., 0., 0.],\n",
       "        [0., 0., 0., ..., 0., 0., 0.],\n",
       "        [0., 0., 0., ..., 0., 0., 0.]],\n",
       "\n",
       "       [[0., 0., 0., ..., 0., 0., 0.],\n",
       "        [0., 0., 0., ..., 0., 0., 0.],\n",
       "        [0., 0., 0., ..., 0., 0., 0.],\n",
       "        ...,\n",
       "        [0., 0., 0., ..., 0., 0., 0.],\n",
       "        [0., 0., 0., ..., 0., 0., 0.],\n",
       "        [0., 0., 0., ..., 0., 0., 0.]],\n",
       "\n",
       "       [[0., 0., 0., ..., 0., 0., 0.],\n",
       "        [0., 0., 0., ..., 0., 0., 0.],\n",
       "        [0., 0., 0., ..., 0., 0., 0.],\n",
       "        ...,\n",
       "        [0., 0., 0., ..., 0., 0., 0.],\n",
       "        [0., 0., 0., ..., 0., 0., 0.],\n",
       "        [0., 0., 0., ..., 0., 0., 0.]],\n",
       "\n",
       "       ...,\n",
       "\n",
       "       [[0., 0., 0., ..., 0., 0., 0.],\n",
       "        [0., 0., 0., ..., 0., 0., 0.],\n",
       "        [0., 0., 0., ..., 0., 0., 0.],\n",
       "        ...,\n",
       "        [0., 0., 0., ..., 0., 0., 0.],\n",
       "        [0., 0., 0., ..., 0., 0., 0.],\n",
       "        [0., 0., 0., ..., 0., 0., 0.]],\n",
       "\n",
       "       [[0., 0., 0., ..., 0., 0., 0.],\n",
       "        [0., 0., 0., ..., 0., 0., 0.],\n",
       "        [0., 0., 0., ..., 0., 0., 0.],\n",
       "        ...,\n",
       "        [0., 0., 0., ..., 0., 0., 0.],\n",
       "        [0., 0., 0., ..., 0., 0., 0.],\n",
       "        [0., 0., 0., ..., 0., 0., 0.]],\n",
       "\n",
       "       [[0., 0., 0., ..., 0., 0., 0.],\n",
       "        [0., 0., 0., ..., 0., 0., 0.],\n",
       "        [0., 0., 0., ..., 0., 0., 0.],\n",
       "        ...,\n",
       "        [0., 0., 0., ..., 0., 0., 0.],\n",
       "        [0., 0., 0., ..., 0., 0., 0.],\n",
       "        [0., 0., 0., ..., 0., 0., 0.]]], shape=(12, 50, 90))"
      ]
     },
     "execution_count": 37,
     "metadata": {},
     "output_type": "execute_result"
    }
   ],
   "source": [
    "scores_co"
   ]
  },
  {
   "cell_type": "code",
   "execution_count": null,
   "id": "65150dfc",
   "metadata": {},
   "outputs": [],
   "source": [
    "## 1D plot\n",
    "diag_po2po_co = np.array([np.diag(s) for s in scores_co[:, :, 40:]])\n",
    "diag_po2pr_co = np.array([np.diag(s) for s in scores_co[:, :, :40]])\n",
    "diag_po2po_ti = np.array([np.diag(s) for s in scores_ti[:, :, 40:]])\n",
    "diag_po2pr_ti = np.array([np.diag(s) for s in scores_ti[:, :, :40]])\n",
    "\n",
    "\n",
    "diag_co = np.concatenate([diag_po2pr_co, diag_po2po_co], axis=1)\n",
    "diag_ti = np.concatenate([diag_po2pr_ti, diag_po2po_ti], axis=1)\n",
    "mean1, std1 = diag_co.mean(axis=0), diag_co.std(axis=0)\n",
    "mean2, std2 = diag_ti.mean(axis=0), diag_ti.std(axis=0)\n",
    "\n",
    "fig, ax = plt.subplots(1, 1, layout=\"tight\", figsize=(9, 4))\n",
    "ax.plot(epochs.times, mean1, color=cmap1[3], label=\"Control\", lw=2)\n",
    "ax.fill_between(epochs.times, mean1-std1, mean1+std1, alpha=0.1, color=cmap1[3])\n",
    "ax.plot(epochs.times, mean2, color=cmap2[5], label=\"Tinnitus\", lw=2)\n",
    "ax.fill_between(epochs.times, mean2-std2, mean2+std2, alpha=0.1, color=cmap2[5])\n",
    "\n",
    "ax.vlines(0, 0.22, 0.28, linestyles=\"--\", color=\"k\")\n",
    "ax.hlines(0.25, -0.4, 0.5, linestyles=\"--\", color=\"grey\")\n",
    "# ax.set_ylim([0.22, 0.28])\n",
    "ax.set_xlim([-0.4, 0.5])\n",
    "ax.spines[[\"right\", \"top\"]].set_visible(False)\n",
    "ax.legend(frameon=False)\n",
    "ax.set_ylabel(\"Decoding accuracy\")\n",
    "ax.set_title(\"Decoding on Random Trials\")\n",
    "ax.set_xlabel(\"Time\")"
   ]
  },
  {
   "cell_type": "markdown",
   "id": "b4bbdae2",
   "metadata": {},
   "source": [
    "Check why they are all 0"
   ]
  },
  {
   "cell_type": "code",
   "execution_count": null,
   "id": "a1e33191",
   "metadata": {},
   "outputs": [],
   "source": [
    "from pathlib import Path\n",
    "import numpy as np\n",
    "import matplotlib.pyplot as plt\n",
    "import mne\n",
    "\n",
    "from sklearn.pipeline import make_pipeline\n",
    "from sklearn.preprocessing import StandardScaler\n",
    "from sklearn.model_selection import StratifiedKFold\n",
    "from sklearn.discriminant_analysis import LinearDiscriminantAnalysis\n",
    "\n",
    "from mne.viz import plot_events\n",
    "from mne.datasets import fetch_fsaverage\n",
    "from mne.minimum_norm import make_inverse_operator, apply_inverse\n",
    "\n",
    "from mne import (\n",
    "                    read_epochs, \n",
    "                    concatenate_epochs,\n",
    "                    open_report,\n",
    "                    compute_covariance,\n",
    "                    make_forward_solution\n",
    "                )\n",
    "\n",
    "from mne.decoding import (\n",
    "                            GeneralizingEstimator,\n",
    "                            LinearModel,\n",
    "                            Scaler,\n",
    "                            Vectorizer,\n",
    "                            cross_val_multiscore,\n",
    "                            get_coef,\n",
    "                            )\n",
    "\n",
    "\n",
    "def split_epochs(subject, saving_dir):\n",
    "\n",
    "    ## check paths\n",
    "    ep_fname = saving_dir / \"epochs\" / f\"{subject}-epo.fif\"\n",
    "    re_fname1 = saving_dir / \"reports\" / f\"{subject}-report.h5\" \n",
    "    re_fname2 = saving_dir / \"reports\" / f\"{subject}-report.html\"\n",
    "    overwrite = True\n",
    "    \n",
    "    # if re_fname2.exists():\n",
    "    #     return None\n",
    "\n",
    "    ## read and modify epochs/report\n",
    "    epochs = read_epochs(ep_fname, preload=True)\n",
    "    report = open_report(re_fname1)\n",
    "    sfreq = epochs.info[\"sfreq\"]\n",
    "    epochs.pick(picks=\"eeg\")\n",
    "    epochs.drop_bad(reject=dict(eeg=100e-6)) # maybe totally remove this\n",
    "    even_ids = epochs.event_id\n",
    "    even_ids.pop(\"New Segment/\", None)\n",
    "\n",
    "    fig_events, ax = plt.subplots(1, 1, figsize=(10, 4), layout=\"tight\")\n",
    "    plot_events(epochs.events, sfreq=sfreq, event_id=even_ids, axes=ax, show=False)\n",
    "    ax.get_legend().remove()\n",
    "    ax.spines[[\"right\", \"top\"]].set_visible(False)\n",
    "    fig_drop = epochs.plot_drop_log(show=False)\n",
    "\n",
    "    report.add_figure(fig=fig_events, title=\"Events\", image_format=\"PNG\")\n",
    "    report.add_figure(fig=fig_drop, title=\"Drop log\", image_format=\"PNG\")\n",
    "\n",
    "    ## balance trials across the 4 classes in training\n",
    "    rnd_ids = [key for key in even_ids if key.endswith(\"rndm\")]\n",
    "    eps_list = [epochs[rnd_id] for rnd_id in rnd_ids]\n",
    "    mne.epochs.equalize_epoch_counts(eps_list, method=\"mintime\")\n",
    "    epochs_rnd = concatenate_epochs(eps_list)\n",
    "\n",
    "    ord_ids = [key for key in even_ids if key.endswith(\"or\")]\n",
    "    epochs_ord = epochs[ord_ids]\n",
    "\n",
    "    report.add_epochs(epochs_rnd, title=\"Random trials info\", psd=False, projs=False)\n",
    "    report.add_epochs(epochs_ord, title=\"Ordered trials info\", psd=False, projs=False)\n",
    "\n",
    "    ## compute covariance matrix from rnd epochs\n",
    "    cov = compute_covariance(epochs_rnd, tmax=0.0)\n",
    "\n",
    "    ## define epochs\n",
    "    ids = range(1, 5) \n",
    "    epochs_rnd_std = epochs_rnd[[f\"f{i}_std_rndm\" for i in ids]]\n",
    "    epochs_rnd_tin = epochs_rnd[[f\"f{i}_tin_rndm\" for i in ids]]\n",
    "\n",
    "    epochs_ord_std = epochs_ord[[f\"f{i}_std_or\" for i in ids]]\n",
    "    epochs_ord_tin = epochs_ord[[f\"f{i}_tin_or\" for i in ids]]\n",
    "\n",
    "    # report.save(saving_dir / \"reports\" / f\"{subject}-report.html\",\n",
    "    #             overwrite=overwrite, open_browser=False)\n",
    "\n",
    "    del epochs_ord, epochs_rnd\n",
    "\n",
    "    return epochs_rnd_std, epochs_rnd_tin, epochs_ord_std, epochs_ord_tin\n",
    "\n",
    "\n",
    "\n",
    "\n",
    "def decode(subject, saving_dir, epochs_rnd_std, epochs_rnd_tin, epochs_ord_std, epochs_ord_tin):\n",
    "    \n",
    "    ###### train clf on random trials\n",
    "    n_splits = 5\n",
    "    scores_dir = saving_dir / \"scores\"\n",
    "    coeffs_dir = saving_dir / \"coeffs\"\n",
    "    stcs_dir = saving_dir / \"stcs\"\n",
    "    [sel_dir.mkdir(exist_ok=True) for sel_dir in [scores_dir, coeffs_dir, stcs_dir]]\n",
    "\n",
    "    labels = [\"standard\", \"tinnitus\"]\n",
    "    for epochs_rnd, epochs_ord, label in zip([epochs_rnd_std, epochs_rnd_tin], [epochs_ord_std, epochs_ord_tin], labels):\n",
    "\n",
    "        post_mask = epochs_rnd.times >= 0\n",
    "        pre_mask  = epochs_rnd.times < 0\n",
    "        X = epochs_rnd.get_data()\n",
    "        y = epochs_rnd.events[:, 2]\n",
    "\n",
    "        X_post_rnd = X[:, :, post_mask]\n",
    "        X_pre_rnd = X[:, :, pre_mask]\n",
    "\n",
    "        ## define and fit generalization object\n",
    "        clf = make_pipeline(\n",
    "                            Scaler(epochs_rnd.info),\n",
    "                            Vectorizer(),           \n",
    "                            LinearModel(LinearDiscriminantAnalysis(solver=\"svd\"))\n",
    "                            )\n",
    "        gen = GeneralizingEstimator(clf, scoring=\"accuracy\", n_jobs=1, verbose=True)\n",
    "\n",
    "        ## train post -> test post with fit (to extract weights)\n",
    "        gen.fit(X_post_rnd, y)\n",
    "        coef_filt = get_coef(gen, \"filters_\", inverse_transform=False)\n",
    "        coef_patt = get_coef(gen, \"patterns_\", inverse_transform=True)[0] # (n_chs, n_class, n_time)\n",
    "\n",
    "        # np.save(coeffs_dir / f\"{subject}_rnd_params_{label}.npy\", coef_filt)\n",
    "        # np.save(coeffs_dir / f\"{subject}_rnd_patterns_{label}.npy\", coef_patt)\n",
    "\n",
    "        ## train post -> test post with cv\n",
    "        cv = StratifiedKFold(n_splits=2, shuffle=True, random_state=42)\n",
    "        scores_post_post = cross_val_multiscore(gen, X_post_rnd, y, cv=cv, n_jobs=1)\n",
    "\n",
    "        ## train post -> test pre\n",
    "        scores_post_pre = []\n",
    "        for train_idx, test_idx in cv.split(X_post_rnd, y):\n",
    "            gen.fit(X_post_rnd[train_idx], y[train_idx]) # train on post\n",
    "            score = gen.score(X_pre_rnd[test_idx], y[test_idx]) # test on pre\n",
    "            scores_post_pre.append(score)\n",
    "        scores_post_pre = np.array(scores_post_pre)\n",
    "\n",
    "        ## save scores and coeffs \n",
    "        # np.save(scores_dir / f\"{subject}_rnd_post2post_{label}.npy\", scores_post_post)\n",
    "        # np.save(scores_dir / f\"{subject}_rnd_post2pre_{label}.npy\", scores_post_pre)\n",
    "\n",
    "        ## source space decoding for random post\n",
    "        # stcs = run_source_analysis(coef_patt, epochs_rnd)\n",
    "        # [stc.save(stcs_dir / f\"{subject}_rnd_class_{label}_{stc_idx + 1}\") for stc_idx, stc in enumerate(stcs)]\n",
    "\n",
    "        ## test on ordered tones\n",
    "        X_ord = epochs_ord.get_data()\n",
    "        y_ord = epochs_ord.events[:, 2]\n",
    "\n",
    "        times_ord = epochs_ord.times\n",
    "        post_mask_ord = epochs_ord.times >= 0\n",
    "        pre_mask_ord  = epochs_ord.times < 0\n",
    "\n",
    "        X_ord_post = X_ord[:, :, post_mask_ord]\n",
    "        X_ord_pre  = X_ord[:, :, pre_mask_ord]\n",
    "\n",
    "        \n",
    "\n",
    "        gen.fit(X_post_rnd, y) # train again on random\n",
    "\n",
    "        ## scores and coeffs\n",
    "        if label == \"standard\":\n",
    "            mapping_ord_2_rnd = dict(zip(range(1, 5), range(5, 9)))\n",
    "        if label == \"tinnitus\":\n",
    "            mapping_ord_2_rnd = dict(zip(range(11, 15), range(15, 19)))\n",
    "        \n",
    "        y_ord_mapped = np.array([mapping_ord_2_rnd[val] for val in y_ord])\n",
    "\n",
    "        score_ord_post = gen.score(X_ord_post, y_ord_mapped)\n",
    "        score_ord_pre = gen.score(X_ord_pre, y_ord_mapped)\n",
    "\n",
    "        coef_filt_ord = get_coef(gen, \"filters_\", inverse_transform=False) # (n_chs, n_class, n_time)\n",
    "        coef_patt_ord = get_coef(gen, \"patterns_\", inverse_transform=True)[0] # (n_chs, n_class, n_time) # check this later\n",
    "\n",
    "        return score_ord_pre, score_ord_post, coef_filt_ord, coef_patt_ord\n",
    "\n",
    "        ## save in numpy array  \n",
    "        # np.save(scores_dir / f\"{subject}_ord_post2post_{label}.npy\", score_ord_post)\n",
    "        # np.save(scores_dir / f\"{subject}_ord_post2pre_{label}.npy\", score_ord_pre)\n",
    "\n",
    "        # np.save(coeffs_dir / f\"{subject}_ord_params_{label}.npy\", coef_filt_ord)\n",
    "        # np.save(coeffs_dir / f\"{subject}_ord_patterns_{label}.npy\", coef_patt_ord)\n",
    "\n",
    "\n",
    "def run_source_analysis(coef_patt, epochs):\n",
    "\n",
    "    epochs.set_eeg_reference(\"average\", projection=True)\n",
    "    evokeds = []\n",
    "    for i_cls in range(4):\n",
    "        evokeds.append(\n",
    "                        mne.EvokedArray(coef_patt[:, i_cls, :],\n",
    "                                        epochs.info,\n",
    "                                        tmin=epochs.times[0])\n",
    "                        )\n",
    "\n",
    "    noise_cov = compute_covariance(epochs, tmax=0.0)\n",
    "    kwargs = {\n",
    "                \"subject\": \"fsaverage\",\n",
    "                \"subjects_dir\": None\n",
    "            }\n",
    "\n",
    "    fs_dir = fetch_fsaverage()\n",
    "    trans = fs_dir / \"bem\" / \"fsaverage-trans.fif\"\n",
    "    src = fs_dir / \"bem\" / \"fsaverage-ico-5-src.fif\"\n",
    "    bem = fs_dir / \"bem\" / \"fsaverage-5120-5120-5120-bem-sol.fif\"\n",
    "\n",
    "    fwd = make_forward_solution(\n",
    "                                epochs.info,\n",
    "                                trans=trans,\n",
    "                                src=src,\n",
    "                                bem=bem,\n",
    "                                meg=False,\n",
    "                                eeg=True\n",
    "                                )\n",
    "    inv = make_inverse_operator(\n",
    "                                epochs.info,\n",
    "                                fwd,\n",
    "                                noise_cov\n",
    "                                )\n",
    "    stcs = []\n",
    "    for evoked in evokeds:\n",
    "        stcs.append(\n",
    "                    apply_inverse(\n",
    "                            evoked, \n",
    "                            inv,\n",
    "                            lambda2=1.0 / 9.0,\n",
    "                            method=\"dSPM\",\n",
    "                            pick_ori=\"normal\"\n",
    "                            )\n",
    "                    )\n",
    "    \n",
    "    del fwd, inv\n",
    "    return stcs"
   ]
  },
  {
   "cell_type": "code",
   "execution_count": 46,
   "id": "d80bbf87",
   "metadata": {},
   "outputs": [
    {
     "name": "stdout",
     "output_type": "stream",
     "text": [
      "Reading /Volumes/Extreme_SSD/payam_data/Tinreg/epochs/tzdz-epo.fif ...\n",
      "    Found the data of interest:\n",
      "        t =    -400.00 ...     490.00 ms\n",
      "        0 CTF compensation matrices available\n",
      "Not setting metadata\n",
      "6000 matching events found\n",
      "No baseline correction applied\n",
      "0 projection items activated\n",
      "Embedding : jquery-3.6.0.min.js\n",
      "Embedding : bootstrap.bundle.min.js\n",
      "Embedding : bootstrap.min.css\n",
      "Embedding : bootstrap-table/bootstrap-table.min.js\n",
      "Embedding : bootstrap-table/bootstrap-table.min.css\n",
      "Embedding : bootstrap-table/bootstrap-table-copy-rows.min.js\n",
      "Embedding : bootstrap-table/bootstrap-table-export.min.js\n",
      "Embedding : bootstrap-table/tableExport.min.js\n",
      "Embedding : bootstrap-icons/bootstrap-icons.mne.min.css\n",
      "Embedding : highlightjs/highlight.min.js\n",
      "Embedding : highlightjs/atom-one-dark-reasonable.min.css\n",
      "    Rejecting  epoch based on EEG : ['Fp1', 'TP10']\n",
      "    Rejecting  epoch based on EEG : ['Fp1']\n",
      "    Rejecting  epoch based on EEG : ['Fp1', 'AF7']\n",
      "    Rejecting  epoch based on EEG : ['Fp1', 'AF7']\n",
      "    Rejecting  epoch based on EEG : ['Fp1']\n",
      "    Rejecting  epoch based on EEG : ['Fp1', 'FT10', 'Fp2', 'AF7']\n",
      "    Rejecting  epoch based on EEG : ['Fp1', 'FT10', 'Fp2', 'AF7', 'AFz']\n",
      "    Rejecting  epoch based on EEG : ['Fp1', 'FT10', 'Fp2', 'AF7', 'AFz']\n",
      "    Rejecting  epoch based on EEG : ['Fp1', 'Fp2', 'AF7']\n",
      "    Rejecting  epoch based on EEG : ['Fp1']\n",
      "    Rejecting  epoch based on EEG : ['Fp1', 'AF7']\n",
      "    Rejecting  epoch based on EEG : ['F7']\n",
      "    Rejecting  epoch based on EEG : ['Fp1', 'FC5']\n",
      "    Rejecting  epoch based on EEG : ['F7']\n",
      "    Rejecting  epoch based on EEG : ['Fp1', 'AF7']\n",
      "    Rejecting  epoch based on EEG : ['TP10']\n",
      "    Rejecting  epoch based on EEG : ['F7']\n",
      "    Rejecting  epoch based on EEG : ['F7']\n",
      "    Rejecting  epoch based on EEG : ['Fp1']\n",
      "    Rejecting  epoch based on EEG : ['Fp1']\n",
      "    Rejecting  epoch based on EEG : ['Fp1']\n",
      "    Rejecting  epoch based on EEG : ['Fp1', 'AF7']\n",
      "    Rejecting  epoch based on EEG : ['Fp1']\n",
      "    Rejecting  epoch based on EEG : ['Fp1']\n",
      "    Rejecting  epoch based on EEG : ['Fp1']\n",
      "    Rejecting  epoch based on EEG : ['Fp1']\n",
      "    Rejecting  epoch based on EEG : ['F5']\n",
      "    Rejecting  epoch based on EEG : ['Fp1']\n",
      "    Rejecting  epoch based on EEG : ['Fp1']\n",
      "    Rejecting  epoch based on EEG : ['Fp1']\n",
      "    Rejecting  epoch based on EEG : ['Fp1']\n",
      "    Rejecting  epoch based on EEG : ['Fp1']\n",
      "    Rejecting  epoch based on EEG : ['Fp1']\n",
      "    Rejecting  epoch based on EEG : ['F5']\n",
      "    Rejecting  epoch based on EEG : ['Fp1']\n",
      "    Rejecting  epoch based on EEG : ['Fp1']\n",
      "    Rejecting  epoch based on EEG : ['Fp1']\n",
      "    Rejecting  epoch based on EEG : ['Fp1']\n",
      "    Rejecting  epoch based on EEG : ['Fp1']\n",
      "    Rejecting  epoch based on EEG : ['Fp1']\n",
      "    Rejecting  epoch based on EEG : ['Fp1']\n",
      "    Rejecting  epoch based on EEG : ['Fp1']\n",
      "    Rejecting  epoch based on EEG : ['F7']\n",
      "    Rejecting  epoch based on EEG : ['F7']\n",
      "    Rejecting  epoch based on EEG : ['F7']\n",
      "    Rejecting  epoch based on EEG : ['Fp1']\n",
      "    Rejecting  epoch based on EEG : ['Fp1']\n",
      "    Rejecting  epoch based on EEG : ['Fp1']\n",
      "    Rejecting  epoch based on EEG : ['Fp1']\n",
      "    Rejecting  epoch based on EEG : ['Fp1']\n",
      "    Rejecting  epoch based on EEG : ['FC5']\n",
      "    Rejecting  epoch based on EEG : ['FC5']\n",
      "    Rejecting  epoch based on EEG : ['FC5']\n",
      "    Rejecting  epoch based on EEG : ['FC5']\n",
      "    Rejecting  epoch based on EEG : ['Fp1']\n",
      "    Rejecting  epoch based on EEG : ['Fp1']\n",
      "    Rejecting  epoch based on EEG : ['Fp1']\n",
      "    Rejecting  epoch based on EEG : ['Fp1', 'O2', 'AF7']\n",
      "    Rejecting  epoch based on EEG : ['Fp1', 'O2', 'FT10', 'AF7']\n",
      "    Rejecting  epoch based on EEG : ['O2']\n",
      "    Rejecting  epoch based on EEG : ['O2']\n",
      "    Rejecting  epoch based on EEG : ['FC5']\n",
      "    Rejecting  epoch based on EEG : ['FC5']\n",
      "    Rejecting  epoch based on EEG : ['FC5']\n",
      "    Rejecting  epoch based on EEG : ['FC5']\n",
      "    Rejecting  epoch based on EEG : ['FC5']\n",
      "    Rejecting  epoch based on EEG : ['Fp1']\n",
      "    Rejecting  epoch based on EEG : ['Fp1', 'AF7']\n",
      "    Rejecting  epoch based on EEG : ['Fp1', 'AF7']\n",
      "    Rejecting  epoch based on EEG : ['Fp1', 'TP10', 'AF7', 'POz']\n",
      "    Rejecting  epoch based on EEG : ['Fp1']\n",
      "    Rejecting  epoch based on EEG : ['Fp1']\n",
      "    Rejecting  epoch based on EEG : ['Fp1']\n",
      "    Rejecting  epoch based on EEG : ['Fp1', 'Fp2']\n",
      "    Rejecting  epoch based on EEG : ['Fp1', 'Fp2']\n",
      "    Rejecting  epoch based on EEG : ['FC5']\n",
      "    Rejecting  epoch based on EEG : ['FC5']\n",
      "    Rejecting  epoch based on EEG : ['FC5']\n",
      "    Rejecting  epoch based on EEG : ['Fp1']\n",
      "    Rejecting  epoch based on EEG : ['Fp1']\n",
      "    Rejecting  epoch based on EEG : ['Fp1']\n",
      "    Rejecting  epoch based on EEG : ['FC5']\n",
      "    Rejecting  epoch based on EEG : ['FC5']\n",
      "    Rejecting  epoch based on EEG : ['FC5']\n",
      "    Rejecting  epoch based on EEG : ['FC5']\n",
      "    Rejecting  epoch based on EEG : ['FC5']\n",
      "    Rejecting  epoch based on EEG : ['Fp1', 'FT10', 'AF7', 'FT8']\n",
      "    Rejecting  epoch based on EEG : ['Fp1', 'C4', 'T8', 'FT10', 'FC6', 'Fp2', 'AF7', 'AF3', 'AFz', 'C6', 'FT8']\n",
      "    Rejecting  epoch based on EEG : ['Fp1', 'TP9', 'TP10', 'C4', 'T8', 'FT10', 'FC6', 'Fp2', 'AF7', 'AF3', 'AFz', 'C6', 'FT8']\n",
      "    Rejecting  epoch based on EEG : ['Fp1', 'F7', 'TP10', 'C4', 'T8', 'FC6', 'Fp2', 'AF7', 'AF3', 'AFz', 'F5', 'C6', 'FT8', 'F6']\n",
      "    Rejecting  epoch based on EEG : ['Fp1', 'F7', 'TP9', 'TP10', 'C4', 'T8', 'FT10', 'FC6', 'F8', 'Fp2', 'AF7', 'AF3', 'AFz', 'F5', 'TP8', 'C6', 'FT8', 'F6', 'AF4']\n",
      "    Rejecting  epoch based on EEG : ['Fp1', 'TP10', 'T8', 'FT10', 'F8', 'Fp2', 'AF7', 'AF3', 'AFz', 'F5', 'FT8']\n",
      "    Rejecting  epoch based on EEG : ['Fp1', 'TP10', 'AF7', 'C6']\n",
      "    Rejecting  epoch based on EEG : ['Fp1', 'T8', 'AF7', 'C6']\n",
      "    Rejecting  epoch based on EEG : ['Fp1', 'Fp2', 'AF7', 'AFz']\n",
      "    Rejecting  epoch based on EEG : ['Fp1']\n",
      "    Rejecting  epoch based on EEG : ['Fp1', 'FC5', 'AF7']\n",
      "    Rejecting  epoch based on EEG : ['Fp1', 'FC5', 'AF7', 'AFz']\n",
      "    Rejecting  epoch based on EEG : ['Fp1', 'FC5']\n",
      "    Rejecting  epoch based on EEG : ['FC5']\n",
      "    Rejecting  epoch based on EEG : ['Fp1', 'AF7']\n",
      "    Rejecting  epoch based on EEG : ['Fp1']\n",
      "    Rejecting  epoch based on EEG : ['Fp1', 'AF7']\n",
      "    Rejecting  epoch based on EEG : ['Fp1', 'AF7']\n",
      "    Rejecting  epoch based on EEG : ['FC5']\n",
      "    Rejecting  epoch based on EEG : ['FC5']\n",
      "    Rejecting  epoch based on EEG : ['FC5']\n",
      "    Rejecting  epoch based on EEG : ['FC5']\n",
      "    Rejecting  epoch based on EEG : ['FC5']\n",
      "    Rejecting  epoch based on EEG : ['FC5']\n",
      "    Rejecting  epoch based on EEG : ['FC5']\n",
      "    Rejecting  epoch based on EEG : ['FC5']\n",
      "    Rejecting  epoch based on EEG : ['FC5']\n",
      "    Rejecting  epoch based on EEG : ['P4']\n",
      "    Rejecting  epoch based on EEG : ['P4']\n",
      "    Rejecting  epoch based on EEG : ['P4']\n",
      "    Rejecting  epoch based on EEG : ['FC5']\n",
      "    Rejecting  epoch based on EEG : ['FC5']\n",
      "    Rejecting  epoch based on EEG : ['FC5']\n",
      "    Rejecting  epoch based on EEG : ['FC5']\n",
      "    Rejecting  epoch based on EEG : ['FC5']\n",
      "    Rejecting  epoch based on EEG : ['Fp1']\n",
      "    Rejecting  epoch based on EEG : ['F7']\n",
      "    Rejecting  epoch based on EEG : ['F7']\n",
      "    Rejecting  epoch based on EEG : ['Fp1', 'AF7']\n",
      "    Rejecting  epoch based on EEG : ['Fp1', 'AF7']\n",
      "    Rejecting  epoch based on EEG : ['Fp1']\n",
      "    Rejecting  epoch based on EEG : ['Fp1']\n",
      "    Rejecting  epoch based on EEG : ['Fp1']\n",
      "    Rejecting  epoch based on EEG : ['Fp1']\n",
      "    Rejecting  epoch based on EEG : ['Fp1']\n",
      "    Rejecting  epoch based on EEG : ['Fp1', 'F7', 'AF7']\n",
      "    Rejecting  epoch based on EEG : ['F7']\n",
      "    Rejecting  epoch based on EEG : ['TP10']\n",
      "    Rejecting  epoch based on EEG : ['Fp1']\n",
      "    Rejecting  epoch based on EEG : ['Fp1', 'Fp2']\n",
      "    Rejecting  epoch based on EEG : ['Fp1']\n",
      "    Rejecting  epoch based on EEG : ['Fp1']\n",
      "    Rejecting  epoch based on EEG : ['Fp1', 'AF7']\n",
      "    Rejecting  epoch based on EEG : ['Fp1']\n",
      "    Rejecting  epoch based on EEG : ['F7']\n",
      "    Rejecting  epoch based on EEG : ['Fp1', 'F7']\n",
      "    Rejecting  epoch based on EEG : ['Fp1', 'F7']\n",
      "    Rejecting  epoch based on EEG : ['F7']\n",
      "    Rejecting  epoch based on EEG : ['Fp1', 'AF7']\n",
      "    Rejecting  epoch based on EEG : ['Fp1']\n",
      "    Rejecting  epoch based on EEG : ['F5']\n",
      "    Rejecting  epoch based on EEG : ['F7']\n",
      "    Rejecting  epoch based on EEG : ['F7']\n",
      "    Rejecting  epoch based on EEG : ['F7']\n",
      "    Rejecting  epoch based on EEG : ['TP10']\n",
      "    Rejecting  epoch based on EEG : ['TP10']\n",
      "    Rejecting  epoch based on EEG : ['TP10', 'PO8']\n",
      "    Rejecting  epoch based on EEG : ['Fp1', 'TP10', 'PO8']\n",
      "    Rejecting  epoch based on EEG : ['Fp1', 'F7', 'TP10', 'AF7', 'PO8']\n",
      "    Rejecting  epoch based on EEG : ['Fp1', 'TP10', 'AF7']\n",
      "    Rejecting  epoch based on EEG : ['TP10']\n",
      "    Rejecting  epoch based on EEG : ['TP10']\n",
      "    Rejecting  epoch based on EEG : ['TP10']\n",
      "    Rejecting  epoch based on EEG : ['Fp1', 'TP10', 'AF7', 'POz']\n",
      "    Rejecting  epoch based on EEG : ['Fp1', 'TP10', 'Fp2', 'AF7', 'POz']\n",
      "    Rejecting  epoch based on EEG : ['TP10', 'POz']\n",
      "    Rejecting  epoch based on EEG : ['Fp1', 'Fp2', 'AF7']\n",
      "    Rejecting  epoch based on EEG : ['Fp1', 'FT10', 'Fp2', 'AF7']\n",
      "    Rejecting  epoch based on EEG : ['Fp1']\n",
      "    Rejecting  epoch based on EEG : ['Fp1']\n",
      "    Rejecting  epoch based on EEG : ['Fp1']\n",
      "    Rejecting  epoch based on EEG : ['FC5']\n",
      "    Rejecting  epoch based on EEG : ['FC5']\n",
      "    Rejecting  epoch based on EEG : ['FC5']\n",
      "    Rejecting  epoch based on EEG : ['Fp1', 'FT10', 'AF7']\n",
      "    Rejecting  epoch based on EEG : ['Fp1', 'FT10', 'Fp2', 'AF7']\n",
      "    Rejecting  epoch based on EEG : ['Fp1', 'FT10', 'AF7']\n",
      "    Rejecting  epoch based on EEG : ['Fp1', 'FC5', 'TP9']\n",
      "    Rejecting  epoch based on EEG : ['Fp1', 'FC5', 'TP9']\n",
      "    Rejecting  epoch based on EEG : ['FC5']\n",
      "    Rejecting  epoch based on EEG : ['FC5']\n",
      "    Rejecting  epoch based on EEG : ['FC5']\n",
      "    Rejecting  epoch based on EEG : ['FC5']\n",
      "    Rejecting  epoch based on EEG : ['FC5']\n",
      "    Rejecting  epoch based on EEG : ['Fp1']\n",
      "    Rejecting  epoch based on EEG : ['Fp1', 'AF7']\n",
      "    Rejecting  epoch based on EEG : ['Fp1', 'Fp2', 'AF7', 'AFz']\n",
      "    Rejecting  epoch based on EEG : ['Fp1', 'FT10', 'AF7']\n",
      "    Rejecting  epoch based on EEG : ['Fp1', 'AF7']\n",
      "    Rejecting  epoch based on EEG : ['Fp1']\n",
      "    Rejecting  epoch based on EEG : ['Fp1']\n",
      "    Rejecting  epoch based on EEG : ['Fp1']\n",
      "    Rejecting  epoch based on EEG : ['Fp1']\n",
      "    Rejecting  epoch based on EEG : ['FT10']\n",
      "    Rejecting  epoch based on EEG : ['Fp1', 'FT10']\n",
      "    Rejecting  epoch based on EEG : ['Fp1', 'C6', 'FT8']\n",
      "    Rejecting  epoch based on EEG : ['Fp1', 'FT8']\n",
      "    Rejecting  epoch based on EEG : ['Fp1']\n",
      "    Rejecting  epoch based on EEG : ['Fp1']\n",
      "    Rejecting  epoch based on EEG : ['Fp1']\n",
      "    Rejecting  epoch based on EEG : ['Fp1']\n",
      "    Rejecting  epoch based on EEG : ['Fp1']\n",
      "    Rejecting  epoch based on EEG : ['Fp1']\n",
      "    Rejecting  epoch based on EEG : ['Fp1']\n",
      "    Rejecting  epoch based on EEG : ['Fp1', 'AF7']\n",
      "201 bad epochs dropped\n"
     ]
    },
    {
     "name": "stderr",
     "output_type": "stream",
     "text": [
      "/var/folders/20/hsy69tx529ndn3rkv5gzcf0c0000gn/T/ipykernel_4857/3526743838.py:54: RuntimeWarning: More events than default colors available. You should pass a list of unique colors.\n",
      "  plot_events(epochs.events, sfreq=sfreq, event_id=even_ids, axes=ax, show=False)\n"
     ]
    },
    {
     "name": "stdout",
     "output_type": "stream",
     "text": [
      "Dropped 58 epochs: 0, 1, 2, 3, 4, 5, 6, 7, 8, 9, 10, 11, 12, 13, 14, 15, 16, 17, 18, 19, 20, 21, 22, 23, 24, 25, 26, 27, 28, 29, 30, 31, 32, 33, 34, 35, 36, 37, 38, 39, 40, 41, 42, 43, 44, 45, 46, 47, 48, 49, 50, 51, 52, 53, 54, 55, 56, 57\n",
      "Dropped 12 epochs: 0, 1, 2, 3, 4, 5, 6, 7, 8, 9, 10, 11\n",
      "Dropped 13 epochs: 0, 1, 2, 3, 4, 5, 6, 7, 8, 9, 10, 11, 12\n",
      "Dropped 29 epochs: 0, 1, 2, 3, 4, 5, 6, 7, 8, 9, 10, 11, 12, 13, 14, 15, 16, 17, 18, 19, 20, 21, 22, 23, 24, 25, 26, 27, 28\n",
      "Dropped 27 epochs: 34, 69, 70, 72, 73, 75, 76, 108, 109, 110, 112, 114, 139, 146, 152, 153, 154, 155, 173, 241, 242, 244, 288, 289, 291, 292, 301\n",
      "Dropped 41 epochs: 101, 102, 103, 104, 107, 150, 176, 177, 192, 193, 194, 195, 197, 199, 200, 201, 202, 207, 209, 211, 214, 215, 216, 218, 220, 228, 229, 299, 300, 304, 305, 307, 308, 310, 313, 314, 318, 322, 323, 325, 328\n",
      "Dropped 0 epochs: \n",
      "Dropped 17 epochs: 32, 33, 34, 36, 37, 38, 39, 40, 41, 42, 44, 45, 46, 107, 115, 118, 119\n",
      "Not setting metadata\n",
      "2696 matching events found\n",
      "No baseline correction applied\n"
     ]
    },
    {
     "name": "stderr",
     "output_type": "stream",
     "text": [
      "/var/folders/20/hsy69tx529ndn3rkv5gzcf0c0000gn/T/ipykernel_4857/3526743838.py:66: RuntimeWarning: Concatenation of Annotations within Epochs is not supported yet. All annotations will be dropped.\n",
      "  epochs_rnd = concatenate_epochs(eps_list)\n",
      "/var/folders/20/hsy69tx529ndn3rkv5gzcf0c0000gn/T/ipykernel_4857/3526743838.py:75: RuntimeWarning: Epochs are not baseline corrected, covariance matrix may be inaccurate\n",
      "  cov = compute_covariance(epochs_rnd, tmax=0.0)\n"
     ]
    },
    {
     "name": "stdout",
     "output_type": "stream",
     "text": [
      "Reducing data rank from 63 -> 63\n",
      "Estimating covariance using EMPIRICAL\n",
      "Done.\n",
      "Number of samples used : 110536\n",
      "[done]\n"
     ]
    }
   ],
   "source": [
    "subject = \"tzdz\"\n",
    "saving_dir = Path(\"/Volumes/Extreme_SSD/payam_data/Tinreg\")\n",
    "epochs_rnd_std, epochs_rnd_tin, epochs_ord_std, epochs_ord_tin = split_epochs(subject, saving_dir)"
   ]
  },
  {
   "cell_type": "code",
   "execution_count": 87,
   "id": "916b82eb",
   "metadata": {},
   "outputs": [
    {
     "name": "stdout",
     "output_type": "stream",
     "text": [
      "Reading /Volumes/Extreme_SSD/payam_data/Tinreg/epochs/tzdz-epo.fif ...\n",
      "    Found the data of interest:\n",
      "        t =    -400.00 ...     490.00 ms\n",
      "        0 CTF compensation matrices available\n",
      "Not setting metadata\n",
      "6000 matching events found\n",
      "No baseline correction applied\n",
      "0 projection items activated\n"
     ]
    },
    {
     "data": {
      "text/plain": [
       "{'f1_std_or': 1,\n",
       " 'f2_std_or': 2,\n",
       " 'f3_std_or': 3,\n",
       " 'f4_std_or': 4,\n",
       " 'f1_std_rndm': 5,\n",
       " 'f2_std_rndm': 6,\n",
       " 'f3_std_rndm': 7,\n",
       " 'f4_std_rndm': 8,\n",
       " 'f1_tin_or': 11,\n",
       " 'f2_tin_or': 12,\n",
       " 'f3_tin_or': 13,\n",
       " 'f4_tin_or': 14,\n",
       " 'f1_tin_rndm': 15,\n",
       " 'f2_tin_rndm': 16,\n",
       " 'f3_tin_rndm': 17,\n",
       " 'f4_tin_rndm': 18}"
      ]
     },
     "execution_count": 87,
     "metadata": {},
     "output_type": "execute_result"
    }
   ],
   "source": [
    "epochs = mne.read_epochs(\"/Volumes/Extreme_SSD/payam_data/Tinreg/epochs/tzdz-epo.fif\")\n",
    "epochs.event_id"
   ]
  },
  {
   "cell_type": "code",
   "execution_count": 80,
   "id": "c6b6b2b6",
   "metadata": {},
   "outputs": [
    {
     "data": {
      "text/plain": [
       "{'f1_std_or': 1, 'f2_std_or': 2, 'f3_std_or': 3, 'f4_std_or': 4}"
      ]
     },
     "execution_count": 80,
     "metadata": {},
     "output_type": "execute_result"
    }
   ],
   "source": [
    "epochs_ord_std.event_id"
   ]
  },
  {
   "cell_type": "code",
   "execution_count": 84,
   "id": "8cb1968c",
   "metadata": {},
   "outputs": [
    {
     "data": {
      "application/vnd.jupyter.widget-view+json": {
       "model_id": "904ca0c4564a44cf9d1288ad1679a353",
       "version_major": 2,
       "version_minor": 0
      },
      "text/plain": [
       "  0%|          | Fitting GeneralizingEstimator : 0/50 [00:00<?,       ?it/s]"
      ]
     },
     "metadata": {},
     "output_type": "display_data"
    },
    {
     "data": {
      "application/vnd.jupyter.widget-view+json": {
       "model_id": "aed78885f29c4bb0be7fb58bd118187a",
       "version_major": 2,
       "version_minor": 0
      },
      "text/plain": [
       "  0%|          | Fitting GeneralizingEstimator : 0/50 [00:00<?,       ?it/s]"
      ]
     },
     "metadata": {},
     "output_type": "display_data"
    },
    {
     "data": {
      "application/vnd.jupyter.widget-view+json": {
       "model_id": "774e11468c174931a2d5599f54beb4d2",
       "version_major": 2,
       "version_minor": 0
      },
      "text/plain": [
       "  0%|          | Scoring GeneralizingEstimator : 0/2500 [00:00<?,       ?it/s]"
      ]
     },
     "metadata": {},
     "output_type": "display_data"
    },
    {
     "data": {
      "application/vnd.jupyter.widget-view+json": {
       "model_id": "4fa3d274366a410fa4b4ead3fc9ad74b",
       "version_major": 2,
       "version_minor": 0
      },
      "text/plain": [
       "  0%|          | Fitting GeneralizingEstimator : 0/50 [00:00<?,       ?it/s]"
      ]
     },
     "metadata": {},
     "output_type": "display_data"
    },
    {
     "data": {
      "application/vnd.jupyter.widget-view+json": {
       "model_id": "e1a6e9cfbd834cc8aa91bbd42e4b9ca4",
       "version_major": 2,
       "version_minor": 0
      },
      "text/plain": [
       "  0%|          | Scoring GeneralizingEstimator : 0/2500 [00:00<?,       ?it/s]"
      ]
     },
     "metadata": {},
     "output_type": "display_data"
    },
    {
     "data": {
      "application/vnd.jupyter.widget-view+json": {
       "model_id": "c4a9c34ac6684b79a58199193ba77316",
       "version_major": 2,
       "version_minor": 0
      },
      "text/plain": [
       "  0%|          | Fitting GeneralizingEstimator : 0/50 [00:00<?,       ?it/s]"
      ]
     },
     "metadata": {},
     "output_type": "display_data"
    },
    {
     "data": {
      "application/vnd.jupyter.widget-view+json": {
       "model_id": "67b46b82bad3421b9f030dd030f9992a",
       "version_major": 2,
       "version_minor": 0
      },
      "text/plain": [
       "  0%|          | Scoring GeneralizingEstimator : 0/2000 [00:00<?,       ?it/s]"
      ]
     },
     "metadata": {},
     "output_type": "display_data"
    },
    {
     "data": {
      "application/vnd.jupyter.widget-view+json": {
       "model_id": "1a692bb0e46540dca60425210e24a2f4",
       "version_major": 2,
       "version_minor": 0
      },
      "text/plain": [
       "  0%|          | Fitting GeneralizingEstimator : 0/50 [00:00<?,       ?it/s]"
      ]
     },
     "metadata": {},
     "output_type": "display_data"
    },
    {
     "data": {
      "application/vnd.jupyter.widget-view+json": {
       "model_id": "7adf424a1354403d8714cbe31b1be731",
       "version_major": 2,
       "version_minor": 0
      },
      "text/plain": [
       "  0%|          | Scoring GeneralizingEstimator : 0/2000 [00:00<?,       ?it/s]"
      ]
     },
     "metadata": {},
     "output_type": "display_data"
    },
    {
     "data": {
      "application/vnd.jupyter.widget-view+json": {
       "model_id": "0526985b19694720a6e07ccdf4eecc0d",
       "version_major": 2,
       "version_minor": 0
      },
      "text/plain": [
       "  0%|          | Fitting GeneralizingEstimator : 0/50 [00:00<?,       ?it/s]"
      ]
     },
     "metadata": {},
     "output_type": "display_data"
    },
    {
     "data": {
      "application/vnd.jupyter.widget-view+json": {
       "model_id": "35214ba4ab414985a86ffe9ff3658502",
       "version_major": 2,
       "version_minor": 0
      },
      "text/plain": [
       "  0%|          | Scoring GeneralizingEstimator : 0/2500 [00:00<?,       ?it/s]"
      ]
     },
     "metadata": {},
     "output_type": "display_data"
    },
    {
     "data": {
      "application/vnd.jupyter.widget-view+json": {
       "model_id": "c28135d6cd6d442d98a94face9b8e59b",
       "version_major": 2,
       "version_minor": 0
      },
      "text/plain": [
       "  0%|          | Scoring GeneralizingEstimator : 0/2000 [00:00<?,       ?it/s]"
      ]
     },
     "metadata": {},
     "output_type": "display_data"
    }
   ],
   "source": [
    "score_ord_pre, score_ord_post, coef_filt_ord, coef_patt_ord = decode(subject, saving_dir, epochs_rnd_std, epochs_rnd_tin, epochs_ord_std, epochs_ord_tin)"
   ]
  },
  {
   "cell_type": "code",
   "execution_count": null,
   "id": "c2b54fa5",
   "metadata": {},
   "outputs": [
    {
     "data": {
      "text/plain": [
       "array([[[ 0.00366324,  0.00429946,  0.00040037, ..., -0.00091414,\n",
       "          0.00046053,  0.00220295],\n",
       "        [-0.00082582, -0.00062171, -0.00334085, ..., -0.00645047,\n",
       "         -0.00556678, -0.00874295],\n",
       "        [-0.00036778, -0.00195855,  0.00038022, ...,  0.00240001,\n",
       "          0.00378135,  0.0010115 ],\n",
       "        [-0.00246964, -0.0017192 ,  0.00256026, ...,  0.00496461,\n",
       "          0.0013249 ,  0.0055285 ]],\n",
       "\n",
       "       [[ 0.00535992,  0.00740735,  0.0062571 , ...,  0.00839391,\n",
       "          0.00860925,  0.00755414],\n",
       "        [ 0.00338569,  0.00163175,  0.00474385, ...,  0.00751926,\n",
       "          0.0039333 ,  0.00362832],\n",
       "        [-0.01501283, -0.0116235 , -0.01141998, ..., -0.01151534,\n",
       "         -0.01161128, -0.01258841],\n",
       "        [ 0.00626723,  0.0025844 ,  0.00041903, ..., -0.00439784,\n",
       "         -0.00093128,  0.00140595]],\n",
       "\n",
       "       [[-0.00479005, -0.00587304, -0.0033084 , ..., -0.00223297,\n",
       "          0.00032441, -0.00037668],\n",
       "        [ 0.00081993,  0.00019521, -0.00048077, ...,  0.00462582,\n",
       "          0.00388911,  0.00608969],\n",
       "        [ 0.00624779,  0.00547834,  0.00389766, ...,  0.00279058,\n",
       "          0.0033291 ,  0.00261982],\n",
       "        [-0.00227767,  0.00019949, -0.00010848, ..., -0.00518343,\n",
       "         -0.00754262, -0.00833282]],\n",
       "\n",
       "       ...,\n",
       "\n",
       "       [[ 0.00114109, -0.0116115 ,  0.00345926, ..., -0.00065783,\n",
       "         -0.00257708, -0.01335774],\n",
       "        [ 0.00493463, -0.00436913, -0.00386542, ...,  0.00102277,\n",
       "          0.00699616,  0.00750877],\n",
       "        [-0.02010139, -0.00959144, -0.00231303, ..., -0.02677695,\n",
       "         -0.02953855, -0.01416025],\n",
       "        [ 0.01402567,  0.02557207,  0.00271919, ...,  0.026412  ,\n",
       "          0.02511946,  0.02000922]],\n",
       "\n",
       "       [[ 0.00104397, -0.00114932, -0.00317805, ...,  0.00375426,\n",
       "         -0.0019052 ,  0.00380798],\n",
       "        [-0.00026555,  0.00031831,  0.00280409, ..., -0.01521325,\n",
       "         -0.00026694,  0.01272665],\n",
       "        [ 0.01422747,  0.0125469 ,  0.00920091, ...,  0.01860569,\n",
       "          0.0157283 ,  0.01544953],\n",
       "        [-0.01500589, -0.01171589, -0.00882695, ..., -0.0071467 ,\n",
       "         -0.01355617, -0.03198416]],\n",
       "\n",
       "       [[-0.0050624 ,  0.00843612,  0.01485681, ...,  0.00777474,\n",
       "          0.01038919,  0.00476444],\n",
       "        [-0.00546779, -0.01757982, -0.01651017, ..., -0.0094758 ,\n",
       "         -0.01921354, -0.02200978],\n",
       "        [-0.00362366,  0.00650737,  0.00649288, ...,  0.0024082 ,\n",
       "         -0.00519713, -0.00100315],\n",
       "        [ 0.01415385,  0.00263632, -0.00483952, ..., -0.00070714,\n",
       "          0.01402148,  0.01824849]]], shape=(63, 4, 50))"
      ]
     },
     "execution_count": 86,
     "metadata": {},
     "output_type": "execute_result"
    }
   ],
   "source": [
    "epochs"
   ]
  },
  {
   "cell_type": "code",
   "execution_count": null,
   "id": "1f0d0c81",
   "metadata": {},
   "outputs": [
    {
     "data": {
      "application/vnd.jupyter.widget-view+json": {
       "model_id": "dbb86fb1328043f98ef85999d6e1bf0c",
       "version_major": 2,
       "version_minor": 0
      },
      "text/plain": [
       "  0%|          | Fitting GeneralizingEstimator : 0/50 [00:00<?,       ?it/s]"
      ]
     },
     "metadata": {},
     "output_type": "display_data"
    },
    {
     "data": {
      "text/html": [
       "<style>#sk-container-id-1 {\n",
       "  /* Definition of color scheme common for light and dark mode */\n",
       "  --sklearn-color-text: #000;\n",
       "  --sklearn-color-text-muted: #666;\n",
       "  --sklearn-color-line: gray;\n",
       "  /* Definition of color scheme for unfitted estimators */\n",
       "  --sklearn-color-unfitted-level-0: #fff5e6;\n",
       "  --sklearn-color-unfitted-level-1: #f6e4d2;\n",
       "  --sklearn-color-unfitted-level-2: #ffe0b3;\n",
       "  --sklearn-color-unfitted-level-3: chocolate;\n",
       "  /* Definition of color scheme for fitted estimators */\n",
       "  --sklearn-color-fitted-level-0: #f0f8ff;\n",
       "  --sklearn-color-fitted-level-1: #d4ebff;\n",
       "  --sklearn-color-fitted-level-2: #b3dbfd;\n",
       "  --sklearn-color-fitted-level-3: cornflowerblue;\n",
       "\n",
       "  /* Specific color for light theme */\n",
       "  --sklearn-color-text-on-default-background: var(--sg-text-color, var(--theme-code-foreground, var(--jp-content-font-color1, black)));\n",
       "  --sklearn-color-background: var(--sg-background-color, var(--theme-background, var(--jp-layout-color0, white)));\n",
       "  --sklearn-color-border-box: var(--sg-text-color, var(--theme-code-foreground, var(--jp-content-font-color1, black)));\n",
       "  --sklearn-color-icon: #696969;\n",
       "\n",
       "  @media (prefers-color-scheme: dark) {\n",
       "    /* Redefinition of color scheme for dark theme */\n",
       "    --sklearn-color-text-on-default-background: var(--sg-text-color, var(--theme-code-foreground, var(--jp-content-font-color1, white)));\n",
       "    --sklearn-color-background: var(--sg-background-color, var(--theme-background, var(--jp-layout-color0, #111)));\n",
       "    --sklearn-color-border-box: var(--sg-text-color, var(--theme-code-foreground, var(--jp-content-font-color1, white)));\n",
       "    --sklearn-color-icon: #878787;\n",
       "  }\n",
       "}\n",
       "\n",
       "#sk-container-id-1 {\n",
       "  color: var(--sklearn-color-text);\n",
       "}\n",
       "\n",
       "#sk-container-id-1 pre {\n",
       "  padding: 0;\n",
       "}\n",
       "\n",
       "#sk-container-id-1 input.sk-hidden--visually {\n",
       "  border: 0;\n",
       "  clip: rect(1px 1px 1px 1px);\n",
       "  clip: rect(1px, 1px, 1px, 1px);\n",
       "  height: 1px;\n",
       "  margin: -1px;\n",
       "  overflow: hidden;\n",
       "  padding: 0;\n",
       "  position: absolute;\n",
       "  width: 1px;\n",
       "}\n",
       "\n",
       "#sk-container-id-1 div.sk-dashed-wrapped {\n",
       "  border: 1px dashed var(--sklearn-color-line);\n",
       "  margin: 0 0.4em 0.5em 0.4em;\n",
       "  box-sizing: border-box;\n",
       "  padding-bottom: 0.4em;\n",
       "  background-color: var(--sklearn-color-background);\n",
       "}\n",
       "\n",
       "#sk-container-id-1 div.sk-container {\n",
       "  /* jupyter's `normalize.less` sets `[hidden] { display: none; }`\n",
       "     but bootstrap.min.css set `[hidden] { display: none !important; }`\n",
       "     so we also need the `!important` here to be able to override the\n",
       "     default hidden behavior on the sphinx rendered scikit-learn.org.\n",
       "     See: https://github.com/scikit-learn/scikit-learn/issues/21755 */\n",
       "  display: inline-block !important;\n",
       "  position: relative;\n",
       "}\n",
       "\n",
       "#sk-container-id-1 div.sk-text-repr-fallback {\n",
       "  display: none;\n",
       "}\n",
       "\n",
       "div.sk-parallel-item,\n",
       "div.sk-serial,\n",
       "div.sk-item {\n",
       "  /* draw centered vertical line to link estimators */\n",
       "  background-image: linear-gradient(var(--sklearn-color-text-on-default-background), var(--sklearn-color-text-on-default-background));\n",
       "  background-size: 2px 100%;\n",
       "  background-repeat: no-repeat;\n",
       "  background-position: center center;\n",
       "}\n",
       "\n",
       "/* Parallel-specific style estimator block */\n",
       "\n",
       "#sk-container-id-1 div.sk-parallel-item::after {\n",
       "  content: \"\";\n",
       "  width: 100%;\n",
       "  border-bottom: 2px solid var(--sklearn-color-text-on-default-background);\n",
       "  flex-grow: 1;\n",
       "}\n",
       "\n",
       "#sk-container-id-1 div.sk-parallel {\n",
       "  display: flex;\n",
       "  align-items: stretch;\n",
       "  justify-content: center;\n",
       "  background-color: var(--sklearn-color-background);\n",
       "  position: relative;\n",
       "}\n",
       "\n",
       "#sk-container-id-1 div.sk-parallel-item {\n",
       "  display: flex;\n",
       "  flex-direction: column;\n",
       "}\n",
       "\n",
       "#sk-container-id-1 div.sk-parallel-item:first-child::after {\n",
       "  align-self: flex-end;\n",
       "  width: 50%;\n",
       "}\n",
       "\n",
       "#sk-container-id-1 div.sk-parallel-item:last-child::after {\n",
       "  align-self: flex-start;\n",
       "  width: 50%;\n",
       "}\n",
       "\n",
       "#sk-container-id-1 div.sk-parallel-item:only-child::after {\n",
       "  width: 0;\n",
       "}\n",
       "\n",
       "/* Serial-specific style estimator block */\n",
       "\n",
       "#sk-container-id-1 div.sk-serial {\n",
       "  display: flex;\n",
       "  flex-direction: column;\n",
       "  align-items: center;\n",
       "  background-color: var(--sklearn-color-background);\n",
       "  padding-right: 1em;\n",
       "  padding-left: 1em;\n",
       "}\n",
       "\n",
       "\n",
       "/* Toggleable style: style used for estimator/Pipeline/ColumnTransformer box that is\n",
       "clickable and can be expanded/collapsed.\n",
       "- Pipeline and ColumnTransformer use this feature and define the default style\n",
       "- Estimators will overwrite some part of the style using the `sk-estimator` class\n",
       "*/\n",
       "\n",
       "/* Pipeline and ColumnTransformer style (default) */\n",
       "\n",
       "#sk-container-id-1 div.sk-toggleable {\n",
       "  /* Default theme specific background. It is overwritten whether we have a\n",
       "  specific estimator or a Pipeline/ColumnTransformer */\n",
       "  background-color: var(--sklearn-color-background);\n",
       "}\n",
       "\n",
       "/* Toggleable label */\n",
       "#sk-container-id-1 label.sk-toggleable__label {\n",
       "  cursor: pointer;\n",
       "  display: flex;\n",
       "  width: 100%;\n",
       "  margin-bottom: 0;\n",
       "  padding: 0.5em;\n",
       "  box-sizing: border-box;\n",
       "  text-align: center;\n",
       "  align-items: start;\n",
       "  justify-content: space-between;\n",
       "  gap: 0.5em;\n",
       "}\n",
       "\n",
       "#sk-container-id-1 label.sk-toggleable__label .caption {\n",
       "  font-size: 0.6rem;\n",
       "  font-weight: lighter;\n",
       "  color: var(--sklearn-color-text-muted);\n",
       "}\n",
       "\n",
       "#sk-container-id-1 label.sk-toggleable__label-arrow:before {\n",
       "  /* Arrow on the left of the label */\n",
       "  content: \"▸\";\n",
       "  float: left;\n",
       "  margin-right: 0.25em;\n",
       "  color: var(--sklearn-color-icon);\n",
       "}\n",
       "\n",
       "#sk-container-id-1 label.sk-toggleable__label-arrow:hover:before {\n",
       "  color: var(--sklearn-color-text);\n",
       "}\n",
       "\n",
       "/* Toggleable content - dropdown */\n",
       "\n",
       "#sk-container-id-1 div.sk-toggleable__content {\n",
       "  display: none;\n",
       "  text-align: left;\n",
       "  /* unfitted */\n",
       "  background-color: var(--sklearn-color-unfitted-level-0);\n",
       "}\n",
       "\n",
       "#sk-container-id-1 div.sk-toggleable__content.fitted {\n",
       "  /* fitted */\n",
       "  background-color: var(--sklearn-color-fitted-level-0);\n",
       "}\n",
       "\n",
       "#sk-container-id-1 div.sk-toggleable__content pre {\n",
       "  margin: 0.2em;\n",
       "  border-radius: 0.25em;\n",
       "  color: var(--sklearn-color-text);\n",
       "  /* unfitted */\n",
       "  background-color: var(--sklearn-color-unfitted-level-0);\n",
       "}\n",
       "\n",
       "#sk-container-id-1 div.sk-toggleable__content.fitted pre {\n",
       "  /* unfitted */\n",
       "  background-color: var(--sklearn-color-fitted-level-0);\n",
       "}\n",
       "\n",
       "#sk-container-id-1 input.sk-toggleable__control:checked~div.sk-toggleable__content {\n",
       "  /* Expand drop-down */\n",
       "  display: block;\n",
       "  width: 100%;\n",
       "  overflow: visible;\n",
       "}\n",
       "\n",
       "#sk-container-id-1 input.sk-toggleable__control:checked~label.sk-toggleable__label-arrow:before {\n",
       "  content: \"▾\";\n",
       "}\n",
       "\n",
       "/* Pipeline/ColumnTransformer-specific style */\n",
       "\n",
       "#sk-container-id-1 div.sk-label input.sk-toggleable__control:checked~label.sk-toggleable__label {\n",
       "  color: var(--sklearn-color-text);\n",
       "  background-color: var(--sklearn-color-unfitted-level-2);\n",
       "}\n",
       "\n",
       "#sk-container-id-1 div.sk-label.fitted input.sk-toggleable__control:checked~label.sk-toggleable__label {\n",
       "  background-color: var(--sklearn-color-fitted-level-2);\n",
       "}\n",
       "\n",
       "/* Estimator-specific style */\n",
       "\n",
       "/* Colorize estimator box */\n",
       "#sk-container-id-1 div.sk-estimator input.sk-toggleable__control:checked~label.sk-toggleable__label {\n",
       "  /* unfitted */\n",
       "  background-color: var(--sklearn-color-unfitted-level-2);\n",
       "}\n",
       "\n",
       "#sk-container-id-1 div.sk-estimator.fitted input.sk-toggleable__control:checked~label.sk-toggleable__label {\n",
       "  /* fitted */\n",
       "  background-color: var(--sklearn-color-fitted-level-2);\n",
       "}\n",
       "\n",
       "#sk-container-id-1 div.sk-label label.sk-toggleable__label,\n",
       "#sk-container-id-1 div.sk-label label {\n",
       "  /* The background is the default theme color */\n",
       "  color: var(--sklearn-color-text-on-default-background);\n",
       "}\n",
       "\n",
       "/* On hover, darken the color of the background */\n",
       "#sk-container-id-1 div.sk-label:hover label.sk-toggleable__label {\n",
       "  color: var(--sklearn-color-text);\n",
       "  background-color: var(--sklearn-color-unfitted-level-2);\n",
       "}\n",
       "\n",
       "/* Label box, darken color on hover, fitted */\n",
       "#sk-container-id-1 div.sk-label.fitted:hover label.sk-toggleable__label.fitted {\n",
       "  color: var(--sklearn-color-text);\n",
       "  background-color: var(--sklearn-color-fitted-level-2);\n",
       "}\n",
       "\n",
       "/* Estimator label */\n",
       "\n",
       "#sk-container-id-1 div.sk-label label {\n",
       "  font-family: monospace;\n",
       "  font-weight: bold;\n",
       "  display: inline-block;\n",
       "  line-height: 1.2em;\n",
       "}\n",
       "\n",
       "#sk-container-id-1 div.sk-label-container {\n",
       "  text-align: center;\n",
       "}\n",
       "\n",
       "/* Estimator-specific */\n",
       "#sk-container-id-1 div.sk-estimator {\n",
       "  font-family: monospace;\n",
       "  border: 1px dotted var(--sklearn-color-border-box);\n",
       "  border-radius: 0.25em;\n",
       "  box-sizing: border-box;\n",
       "  margin-bottom: 0.5em;\n",
       "  /* unfitted */\n",
       "  background-color: var(--sklearn-color-unfitted-level-0);\n",
       "}\n",
       "\n",
       "#sk-container-id-1 div.sk-estimator.fitted {\n",
       "  /* fitted */\n",
       "  background-color: var(--sklearn-color-fitted-level-0);\n",
       "}\n",
       "\n",
       "/* on hover */\n",
       "#sk-container-id-1 div.sk-estimator:hover {\n",
       "  /* unfitted */\n",
       "  background-color: var(--sklearn-color-unfitted-level-2);\n",
       "}\n",
       "\n",
       "#sk-container-id-1 div.sk-estimator.fitted:hover {\n",
       "  /* fitted */\n",
       "  background-color: var(--sklearn-color-fitted-level-2);\n",
       "}\n",
       "\n",
       "/* Specification for estimator info (e.g. \"i\" and \"?\") */\n",
       "\n",
       "/* Common style for \"i\" and \"?\" */\n",
       "\n",
       ".sk-estimator-doc-link,\n",
       "a:link.sk-estimator-doc-link,\n",
       "a:visited.sk-estimator-doc-link {\n",
       "  float: right;\n",
       "  font-size: smaller;\n",
       "  line-height: 1em;\n",
       "  font-family: monospace;\n",
       "  background-color: var(--sklearn-color-background);\n",
       "  border-radius: 1em;\n",
       "  height: 1em;\n",
       "  width: 1em;\n",
       "  text-decoration: none !important;\n",
       "  margin-left: 0.5em;\n",
       "  text-align: center;\n",
       "  /* unfitted */\n",
       "  border: var(--sklearn-color-unfitted-level-1) 1pt solid;\n",
       "  color: var(--sklearn-color-unfitted-level-1);\n",
       "}\n",
       "\n",
       ".sk-estimator-doc-link.fitted,\n",
       "a:link.sk-estimator-doc-link.fitted,\n",
       "a:visited.sk-estimator-doc-link.fitted {\n",
       "  /* fitted */\n",
       "  border: var(--sklearn-color-fitted-level-1) 1pt solid;\n",
       "  color: var(--sklearn-color-fitted-level-1);\n",
       "}\n",
       "\n",
       "/* On hover */\n",
       "div.sk-estimator:hover .sk-estimator-doc-link:hover,\n",
       ".sk-estimator-doc-link:hover,\n",
       "div.sk-label-container:hover .sk-estimator-doc-link:hover,\n",
       ".sk-estimator-doc-link:hover {\n",
       "  /* unfitted */\n",
       "  background-color: var(--sklearn-color-unfitted-level-3);\n",
       "  color: var(--sklearn-color-background);\n",
       "  text-decoration: none;\n",
       "}\n",
       "\n",
       "div.sk-estimator.fitted:hover .sk-estimator-doc-link.fitted:hover,\n",
       ".sk-estimator-doc-link.fitted:hover,\n",
       "div.sk-label-container:hover .sk-estimator-doc-link.fitted:hover,\n",
       ".sk-estimator-doc-link.fitted:hover {\n",
       "  /* fitted */\n",
       "  background-color: var(--sklearn-color-fitted-level-3);\n",
       "  color: var(--sklearn-color-background);\n",
       "  text-decoration: none;\n",
       "}\n",
       "\n",
       "/* Span, style for the box shown on hovering the info icon */\n",
       ".sk-estimator-doc-link span {\n",
       "  display: none;\n",
       "  z-index: 9999;\n",
       "  position: relative;\n",
       "  font-weight: normal;\n",
       "  right: .2ex;\n",
       "  padding: .5ex;\n",
       "  margin: .5ex;\n",
       "  width: min-content;\n",
       "  min-width: 20ex;\n",
       "  max-width: 50ex;\n",
       "  color: var(--sklearn-color-text);\n",
       "  box-shadow: 2pt 2pt 4pt #999;\n",
       "  /* unfitted */\n",
       "  background: var(--sklearn-color-unfitted-level-0);\n",
       "  border: .5pt solid var(--sklearn-color-unfitted-level-3);\n",
       "}\n",
       "\n",
       ".sk-estimator-doc-link.fitted span {\n",
       "  /* fitted */\n",
       "  background: var(--sklearn-color-fitted-level-0);\n",
       "  border: var(--sklearn-color-fitted-level-3);\n",
       "}\n",
       "\n",
       ".sk-estimator-doc-link:hover span {\n",
       "  display: block;\n",
       "}\n",
       "\n",
       "/* \"?\"-specific style due to the `<a>` HTML tag */\n",
       "\n",
       "#sk-container-id-1 a.estimator_doc_link {\n",
       "  float: right;\n",
       "  font-size: 1rem;\n",
       "  line-height: 1em;\n",
       "  font-family: monospace;\n",
       "  background-color: var(--sklearn-color-background);\n",
       "  border-radius: 1rem;\n",
       "  height: 1rem;\n",
       "  width: 1rem;\n",
       "  text-decoration: none;\n",
       "  /* unfitted */\n",
       "  color: var(--sklearn-color-unfitted-level-1);\n",
       "  border: var(--sklearn-color-unfitted-level-1) 1pt solid;\n",
       "}\n",
       "\n",
       "#sk-container-id-1 a.estimator_doc_link.fitted {\n",
       "  /* fitted */\n",
       "  border: var(--sklearn-color-fitted-level-1) 1pt solid;\n",
       "  color: var(--sklearn-color-fitted-level-1);\n",
       "}\n",
       "\n",
       "/* On hover */\n",
       "#sk-container-id-1 a.estimator_doc_link:hover {\n",
       "  /* unfitted */\n",
       "  background-color: var(--sklearn-color-unfitted-level-3);\n",
       "  color: var(--sklearn-color-background);\n",
       "  text-decoration: none;\n",
       "}\n",
       "\n",
       "#sk-container-id-1 a.estimator_doc_link.fitted:hover {\n",
       "  /* fitted */\n",
       "  background-color: var(--sklearn-color-fitted-level-3);\n",
       "}\n",
       "\n",
       ".estimator-table summary {\n",
       "    padding: .5rem;\n",
       "    font-family: monospace;\n",
       "    cursor: pointer;\n",
       "}\n",
       "\n",
       ".estimator-table details[open] {\n",
       "    padding-left: 0.1rem;\n",
       "    padding-right: 0.1rem;\n",
       "    padding-bottom: 0.3rem;\n",
       "}\n",
       "\n",
       ".estimator-table .parameters-table {\n",
       "    margin-left: auto !important;\n",
       "    margin-right: auto !important;\n",
       "}\n",
       "\n",
       ".estimator-table .parameters-table tr:nth-child(odd) {\n",
       "    background-color: #fff;\n",
       "}\n",
       "\n",
       ".estimator-table .parameters-table tr:nth-child(even) {\n",
       "    background-color: #f6f6f6;\n",
       "}\n",
       "\n",
       ".estimator-table .parameters-table tr:hover {\n",
       "    background-color: #e0e0e0;\n",
       "}\n",
       "\n",
       ".estimator-table table td {\n",
       "    border: 1px solid rgba(106, 105, 104, 0.232);\n",
       "}\n",
       "\n",
       ".user-set td {\n",
       "    color:rgb(255, 94, 0);\n",
       "    text-align: left;\n",
       "}\n",
       "\n",
       ".user-set td.value pre {\n",
       "    color:rgb(255, 94, 0) !important;\n",
       "    background-color: transparent !important;\n",
       "}\n",
       "\n",
       ".default td {\n",
       "    color: black;\n",
       "    text-align: left;\n",
       "}\n",
       "\n",
       ".user-set td i,\n",
       ".default td i {\n",
       "    color: black;\n",
       "}\n",
       "\n",
       ".copy-paste-icon {\n",
       "    background-image: url(data:image/svg+xml;base64,PHN2ZyB4bWxucz0iaHR0cDovL3d3dy53My5vcmcvMjAwMC9zdmciIHZpZXdCb3g9IjAgMCA0NDggNTEyIj48IS0tIUZvbnQgQXdlc29tZSBGcmVlIDYuNy4yIGJ5IEBmb250YXdlc29tZSAtIGh0dHBzOi8vZm9udGF3ZXNvbWUuY29tIExpY2Vuc2UgLSBodHRwczovL2ZvbnRhd2Vzb21lLmNvbS9saWNlbnNlL2ZyZWUgQ29weXJpZ2h0IDIwMjUgRm9udGljb25zLCBJbmMuLS0+PHBhdGggZD0iTTIwOCAwTDMzMi4xIDBjMTIuNyAwIDI0LjkgNS4xIDMzLjkgMTQuMWw2Ny45IDY3LjljOSA5IDE0LjEgMjEuMiAxNC4xIDMzLjlMNDQ4IDMzNmMwIDI2LjUtMjEuNSA0OC00OCA0OGwtMTkyIDBjLTI2LjUgMC00OC0yMS41LTQ4LTQ4bDAtMjg4YzAtMjYuNSAyMS41LTQ4IDQ4LTQ4ek00OCAxMjhsODAgMCAwIDY0LTY0IDAgMCAyNTYgMTkyIDAgMC0zMiA2NCAwIDAgNDhjMCAyNi41LTIxLjUgNDgtNDggNDhMNDggNTEyYy0yNi41IDAtNDgtMjEuNS00OC00OEwwIDE3NmMwLTI2LjUgMjEuNS00OCA0OC00OHoiLz48L3N2Zz4=);\n",
       "    background-repeat: no-repeat;\n",
       "    background-size: 14px 14px;\n",
       "    background-position: 0;\n",
       "    display: inline-block;\n",
       "    width: 14px;\n",
       "    height: 14px;\n",
       "    cursor: pointer;\n",
       "}\n",
       "</style><body><div id=\"sk-container-id-1\" class=\"sk-top-container\"><div class=\"sk-text-repr-fallback\"><pre>&lt;GeneralizingEstimator(base_estimator=Pipeline(steps=[(&#x27;scaler&#x27;, Scaler(info=&lt;Info | 11 non-empty values\n",
       " bads: []\n",
       " ch_names: Fp1, F3, F7, FT9, FC5, FC1, C3, T7, TP9, CP5, CP1, Pz, P3, P7, ...\n",
       " chs: 63 EEG\n",
       " custom_ref_applied: True\n",
       " dig: 66 items (3 Cardinal, 63 EEG)\n",
       " file_id: 4 items (dict)\n",
       " highpass: 0.1 Hz\n",
       " lowpass: 30.0 Hz\n",
       " meas_date: 2025-07-21 10:18:30 UTC\n",
       " meas_id: 4 items (dict)\n",
       " nchan: 63\n",
       " projs: []\n",
       " sfreq: 100.0 Hz\n",
       "&gt;)), (&#x27;vectorizer&#x27;, Vectorizer()), (&#x27;linearmodel&#x27;, LinearModel(model=LinearDiscriminantAnalysis()))]), n_jobs=1, scoring=&#x27;accuracy&#x27;, verbose=True, fitted with 50 estimators, fitted with 50 estimators&gt;</pre><b>In a Jupyter environment, please rerun this cell to show the HTML representation or trust the notebook. <br />On GitHub, the HTML representation is unable to render, please try loading this page with nbviewer.org.</b></div><div class=\"sk-container\" hidden><div class=\"sk-item sk-dashed-wrapped\"><div class=\"sk-label-container\"><div class=\"sk-label fitted sk-toggleable\"><input class=\"sk-toggleable__control sk-hidden--visually\" id=\"sk-estimator-id-1\" type=\"checkbox\" ><label for=\"sk-estimator-id-1\" class=\"sk-toggleable__label fitted sk-toggleable__label-arrow\"><div><div>GeneralizingEstimator</div></div><div><span class=\"sk-estimator-doc-link fitted\">i<span>Fitted</span></span></div></label><div class=\"sk-toggleable__content fitted\" data-param-prefix=\"\">\n",
       "        <div class=\"estimator-table\">\n",
       "            <details>\n",
       "                <summary>Parameters</summary>\n",
       "                <table class=\"parameters-table\">\n",
       "                  <tbody>\n",
       "                    \n",
       "        <tr class=\"user-set\">\n",
       "            <td><i class=\"copy-paste-icon\"\n",
       "                 onclick=\"copyToClipboard('base_estimator',\n",
       "                          this.parentElement.nextElementSibling)\"\n",
       "            ></i></td>\n",
       "            <td class=\"param\">base_estimator&nbsp;</td>\n",
       "            <td class=\"value\">Pipeline(step...Analysis()))])</td>\n",
       "        </tr>\n",
       "    \n",
       "\n",
       "        <tr class=\"user-set\">\n",
       "            <td><i class=\"copy-paste-icon\"\n",
       "                 onclick=\"copyToClipboard('scoring',\n",
       "                          this.parentElement.nextElementSibling)\"\n",
       "            ></i></td>\n",
       "            <td class=\"param\">scoring&nbsp;</td>\n",
       "            <td class=\"value\">&#x27;accuracy&#x27;</td>\n",
       "        </tr>\n",
       "    \n",
       "\n",
       "        <tr class=\"user-set\">\n",
       "            <td><i class=\"copy-paste-icon\"\n",
       "                 onclick=\"copyToClipboard('n_jobs',\n",
       "                          this.parentElement.nextElementSibling)\"\n",
       "            ></i></td>\n",
       "            <td class=\"param\">n_jobs&nbsp;</td>\n",
       "            <td class=\"value\">1</td>\n",
       "        </tr>\n",
       "    \n",
       "\n",
       "        <tr class=\"default\">\n",
       "            <td><i class=\"copy-paste-icon\"\n",
       "                 onclick=\"copyToClipboard('position',\n",
       "                          this.parentElement.nextElementSibling)\"\n",
       "            ></i></td>\n",
       "            <td class=\"param\">position&nbsp;</td>\n",
       "            <td class=\"value\">0</td>\n",
       "        </tr>\n",
       "    \n",
       "\n",
       "        <tr class=\"default\">\n",
       "            <td><i class=\"copy-paste-icon\"\n",
       "                 onclick=\"copyToClipboard('allow_2d',\n",
       "                          this.parentElement.nextElementSibling)\"\n",
       "            ></i></td>\n",
       "            <td class=\"param\">allow_2d&nbsp;</td>\n",
       "            <td class=\"value\">False</td>\n",
       "        </tr>\n",
       "    \n",
       "\n",
       "        <tr class=\"user-set\">\n",
       "            <td><i class=\"copy-paste-icon\"\n",
       "                 onclick=\"copyToClipboard('verbose',\n",
       "                          this.parentElement.nextElementSibling)\"\n",
       "            ></i></td>\n",
       "            <td class=\"param\">verbose&nbsp;</td>\n",
       "            <td class=\"value\">True</td>\n",
       "        </tr>\n",
       "    \n",
       "                  </tbody>\n",
       "                </table>\n",
       "            </details>\n",
       "        </div>\n",
       "    </div></div></div><div class=\"sk-parallel\"><div class=\"sk-parallel-item\"><div class=\"sk-item\"><div class=\"sk-label-container\"><div class=\"sk-label fitted sk-toggleable\"><input class=\"sk-toggleable__control sk-hidden--visually\" id=\"sk-estimator-id-2\" type=\"checkbox\" ><label for=\"sk-estimator-id-2\" class=\"sk-toggleable__label fitted sk-toggleable__label-arrow\"><div><div>base_estimator: Pipeline</div></div></label><div class=\"sk-toggleable__content fitted\" data-param-prefix=\"base_estimator__\"></div></div><div class=\"sk-serial\"><div class=\"sk-item\"><div class=\"sk-serial\"><div class=\"sk-item\"><div class=\"sk-estimator fitted sk-toggleable\"><input class=\"sk-toggleable__control sk-hidden--visually\" id=\"sk-estimator-id-3\" type=\"checkbox\" ><label for=\"sk-estimator-id-3\" class=\"sk-toggleable__label fitted sk-toggleable__label-arrow\"><div><div>Scaler</div></div></label><div class=\"sk-toggleable__content fitted\" data-param-prefix=\"base_estimator__scaler__\">\n",
       "        <div class=\"estimator-table\">\n",
       "            <details>\n",
       "                <summary>Parameters</summary>\n",
       "                <table class=\"parameters-table\">\n",
       "                  <tbody>\n",
       "                    \n",
       "        <tr class=\"user-set\">\n",
       "            <td><i class=\"copy-paste-icon\"\n",
       "                 onclick=\"copyToClipboard('info',\n",
       "                          this.parentElement.nextElementSibling)\"\n",
       "            ></i></td>\n",
       "            <td class=\"param\">info&nbsp;</td>\n",
       "            <td class=\"value\">&lt;Info | 11 no...eq: 100.0 Hz\n",
       "&gt;</td>\n",
       "        </tr>\n",
       "    \n",
       "\n",
       "        <tr class=\"default\">\n",
       "            <td><i class=\"copy-paste-icon\"\n",
       "                 onclick=\"copyToClipboard('scalings',\n",
       "                          this.parentElement.nextElementSibling)\"\n",
       "            ></i></td>\n",
       "            <td class=\"param\">scalings&nbsp;</td>\n",
       "            <td class=\"value\">None</td>\n",
       "        </tr>\n",
       "    \n",
       "\n",
       "        <tr class=\"default\">\n",
       "            <td><i class=\"copy-paste-icon\"\n",
       "                 onclick=\"copyToClipboard('with_mean',\n",
       "                          this.parentElement.nextElementSibling)\"\n",
       "            ></i></td>\n",
       "            <td class=\"param\">with_mean&nbsp;</td>\n",
       "            <td class=\"value\">True</td>\n",
       "        </tr>\n",
       "    \n",
       "\n",
       "        <tr class=\"default\">\n",
       "            <td><i class=\"copy-paste-icon\"\n",
       "                 onclick=\"copyToClipboard('with_std',\n",
       "                          this.parentElement.nextElementSibling)\"\n",
       "            ></i></td>\n",
       "            <td class=\"param\">with_std&nbsp;</td>\n",
       "            <td class=\"value\">True</td>\n",
       "        </tr>\n",
       "    \n",
       "                  </tbody>\n",
       "                </table>\n",
       "            </details>\n",
       "        </div>\n",
       "    </div></div></div><div class=\"sk-item\"><div class=\"sk-estimator fitted sk-toggleable\"><input class=\"sk-toggleable__control sk-hidden--visually\" id=\"sk-estimator-id-4\" type=\"checkbox\" ><label for=\"sk-estimator-id-4\" class=\"sk-toggleable__label fitted sk-toggleable__label-arrow\"><div><div>Vectorizer</div></div></label><div class=\"sk-toggleable__content fitted\" data-param-prefix=\"base_estimator__vectorizer__\">\n",
       "        <div class=\"estimator-table\">\n",
       "            <details>\n",
       "                <summary>Parameters</summary>\n",
       "                <table class=\"parameters-table\">\n",
       "                  <tbody>\n",
       "                    \n",
       "                  </tbody>\n",
       "                </table>\n",
       "            </details>\n",
       "        </div>\n",
       "    </div></div></div><div class=\"sk-item sk-dashed-wrapped\"><div class=\"sk-label-container\"><div class=\"sk-label fitted sk-toggleable\"><input class=\"sk-toggleable__control sk-hidden--visually\" id=\"sk-estimator-id-5\" type=\"checkbox\" ><label for=\"sk-estimator-id-5\" class=\"sk-toggleable__label fitted sk-toggleable__label-arrow\"><div><div>linearmodel: LinearModel</div></div></label><div class=\"sk-toggleable__content fitted\" data-param-prefix=\"base_estimator__linearmodel__\">\n",
       "        <div class=\"estimator-table\">\n",
       "            <details>\n",
       "                <summary>Parameters</summary>\n",
       "                <table class=\"parameters-table\">\n",
       "                  <tbody>\n",
       "                    \n",
       "        <tr class=\"user-set\">\n",
       "            <td><i class=\"copy-paste-icon\"\n",
       "                 onclick=\"copyToClipboard('model',\n",
       "                          this.parentElement.nextElementSibling)\"\n",
       "            ></i></td>\n",
       "            <td class=\"param\">model&nbsp;</td>\n",
       "            <td class=\"value\">LinearDiscriminantAnalysis()</td>\n",
       "        </tr>\n",
       "    \n",
       "                  </tbody>\n",
       "                </table>\n",
       "            </details>\n",
       "        </div>\n",
       "    </div></div></div><div class=\"sk-parallel\"><div class=\"sk-parallel-item\"><div class=\"sk-item\"><div class=\"sk-label-container\"><div class=\"sk-label fitted sk-toggleable\"><input class=\"sk-toggleable__control sk-hidden--visually\" id=\"sk-estimator-id-6\" type=\"checkbox\" ><label for=\"sk-estimator-id-6\" class=\"sk-toggleable__label fitted sk-toggleable__label-arrow\"><div><div>model: LinearDiscriminantAnalysis</div></div></label><div class=\"sk-toggleable__content fitted\" data-param-prefix=\"base_estimator__linearmodel__model__\"><pre>LinearDiscriminantAnalysis()</pre></div></div></div><div class=\"sk-serial\"><div class=\"sk-item\"><div class=\"sk-estimator fitted sk-toggleable\"><input class=\"sk-toggleable__control sk-hidden--visually\" id=\"sk-estimator-id-7\" type=\"checkbox\" ><label for=\"sk-estimator-id-7\" class=\"sk-toggleable__label fitted sk-toggleable__label-arrow\"><div><div>LinearDiscriminantAnalysis</div></div><div><a class=\"sk-estimator-doc-link fitted\" rel=\"noreferrer\" target=\"_blank\" href=\"https://scikit-learn.org/1.7/modules/generated/sklearn.discriminant_analysis.LinearDiscriminantAnalysis.html\">?<span>Documentation for LinearDiscriminantAnalysis</span></a></div></label><div class=\"sk-toggleable__content fitted\" data-param-prefix=\"base_estimator__linearmodel__model__\">\n",
       "        <div class=\"estimator-table\">\n",
       "            <details>\n",
       "                <summary>Parameters</summary>\n",
       "                <table class=\"parameters-table\">\n",
       "                  <tbody>\n",
       "                    \n",
       "        <tr class=\"default\">\n",
       "            <td><i class=\"copy-paste-icon\"\n",
       "                 onclick=\"copyToClipboard('solver',\n",
       "                          this.parentElement.nextElementSibling)\"\n",
       "            ></i></td>\n",
       "            <td class=\"param\">solver&nbsp;</td>\n",
       "            <td class=\"value\">&#x27;svd&#x27;</td>\n",
       "        </tr>\n",
       "    \n",
       "\n",
       "        <tr class=\"default\">\n",
       "            <td><i class=\"copy-paste-icon\"\n",
       "                 onclick=\"copyToClipboard('shrinkage',\n",
       "                          this.parentElement.nextElementSibling)\"\n",
       "            ></i></td>\n",
       "            <td class=\"param\">shrinkage&nbsp;</td>\n",
       "            <td class=\"value\">None</td>\n",
       "        </tr>\n",
       "    \n",
       "\n",
       "        <tr class=\"default\">\n",
       "            <td><i class=\"copy-paste-icon\"\n",
       "                 onclick=\"copyToClipboard('priors',\n",
       "                          this.parentElement.nextElementSibling)\"\n",
       "            ></i></td>\n",
       "            <td class=\"param\">priors&nbsp;</td>\n",
       "            <td class=\"value\">None</td>\n",
       "        </tr>\n",
       "    \n",
       "\n",
       "        <tr class=\"default\">\n",
       "            <td><i class=\"copy-paste-icon\"\n",
       "                 onclick=\"copyToClipboard('n_components',\n",
       "                          this.parentElement.nextElementSibling)\"\n",
       "            ></i></td>\n",
       "            <td class=\"param\">n_components&nbsp;</td>\n",
       "            <td class=\"value\">None</td>\n",
       "        </tr>\n",
       "    \n",
       "\n",
       "        <tr class=\"default\">\n",
       "            <td><i class=\"copy-paste-icon\"\n",
       "                 onclick=\"copyToClipboard('store_covariance',\n",
       "                          this.parentElement.nextElementSibling)\"\n",
       "            ></i></td>\n",
       "            <td class=\"param\">store_covariance&nbsp;</td>\n",
       "            <td class=\"value\">False</td>\n",
       "        </tr>\n",
       "    \n",
       "\n",
       "        <tr class=\"default\">\n",
       "            <td><i class=\"copy-paste-icon\"\n",
       "                 onclick=\"copyToClipboard('tol',\n",
       "                          this.parentElement.nextElementSibling)\"\n",
       "            ></i></td>\n",
       "            <td class=\"param\">tol&nbsp;</td>\n",
       "            <td class=\"value\">0.0001</td>\n",
       "        </tr>\n",
       "    \n",
       "\n",
       "        <tr class=\"default\">\n",
       "            <td><i class=\"copy-paste-icon\"\n",
       "                 onclick=\"copyToClipboard('covariance_estimator',\n",
       "                          this.parentElement.nextElementSibling)\"\n",
       "            ></i></td>\n",
       "            <td class=\"param\">covariance_estimator&nbsp;</td>\n",
       "            <td class=\"value\">None</td>\n",
       "        </tr>\n",
       "    \n",
       "                  </tbody>\n",
       "                </table>\n",
       "            </details>\n",
       "        </div>\n",
       "    </div></div></div></div></div></div></div></div></div></div></div></div></div></div></div></div></div><script>function copyToClipboard(text, element) {\n",
       "    // Get the parameter prefix from the closest toggleable content\n",
       "    const toggleableContent = element.closest('.sk-toggleable__content');\n",
       "    const paramPrefix = toggleableContent ? toggleableContent.dataset.paramPrefix : '';\n",
       "    const fullParamName = paramPrefix ? `${paramPrefix}${text}` : text;\n",
       "\n",
       "    const originalStyle = element.style;\n",
       "    const computedStyle = window.getComputedStyle(element);\n",
       "    const originalWidth = computedStyle.width;\n",
       "    const originalHTML = element.innerHTML.replace('Copied!', '');\n",
       "\n",
       "    navigator.clipboard.writeText(fullParamName)\n",
       "        .then(() => {\n",
       "            element.style.width = originalWidth;\n",
       "            element.style.color = 'green';\n",
       "            element.innerHTML = \"Copied!\";\n",
       "\n",
       "            setTimeout(() => {\n",
       "                element.innerHTML = originalHTML;\n",
       "                element.style = originalStyle;\n",
       "            }, 2000);\n",
       "        })\n",
       "        .catch(err => {\n",
       "            console.error('Failed to copy:', err);\n",
       "            element.style.color = 'red';\n",
       "            element.innerHTML = \"Failed!\";\n",
       "            setTimeout(() => {\n",
       "                element.innerHTML = originalHTML;\n",
       "                element.style = originalStyle;\n",
       "            }, 2000);\n",
       "        });\n",
       "    return false;\n",
       "}\n",
       "\n",
       "document.querySelectorAll('.fa-regular.fa-copy').forEach(function(element) {\n",
       "    const toggleableContent = element.closest('.sk-toggleable__content');\n",
       "    const paramPrefix = toggleableContent ? toggleableContent.dataset.paramPrefix : '';\n",
       "    const paramName = element.parentElement.nextElementSibling.textContent.trim();\n",
       "    const fullParamName = paramPrefix ? `${paramPrefix}${paramName}` : paramName;\n",
       "\n",
       "    element.setAttribute('title', fullParamName);\n",
       "});\n",
       "</script></body>"
      ],
      "text/plain": [
       "<GeneralizingEstimator(base_estimator=Pipeline(steps=[('scaler', Scaler(info=<Info | 11 non-empty values\n",
       " bads: []\n",
       " ch_names: Fp1, F3, F7, FT9, FC5, FC1, C3, T7, TP9, CP5, CP1, Pz, P3, P7, ...\n",
       " chs: 63 EEG\n",
       " custom_ref_applied: True\n",
       " dig: 66 items (3 Cardinal, 63 EEG)\n",
       " file_id: 4 items (dict)\n",
       " highpass: 0.1 Hz\n",
       " lowpass: 30.0 Hz\n",
       " meas_date: 2025-07-21 10:18:30 UTC\n",
       " meas_id: 4 items (dict)\n",
       " nchan: 63\n",
       " projs: []\n",
       " sfreq: 100.0 Hz\n",
       ">)), ('vectorizer', Vectorizer()), ('linearmodel', LinearModel(model=LinearDiscriminantAnalysis()))]), n_jobs=1, scoring='accuracy', verbose=True, fitted with 50 estimators, fitted with 50 estimators>"
      ]
     },
     "execution_count": 70,
     "metadata": {},
     "output_type": "execute_result"
    }
   ],
   "source": [
    "clf = make_pipeline(\n",
    "                            Scaler(epochs_rnd_std.info),\n",
    "                            Vectorizer(),           \n",
    "                            LinearModel(LinearDiscriminantAnalysis(solver=\"svd\"))\n",
    "                            )\n",
    "gen = GeneralizingEstimator(clf, scoring=\"accuracy\", n_jobs=1, verbose=True)\n",
    "gen.fit(X_post_rnd, y)\n",
    "\n",
    "y_ord = epochs_ord_std.events[:, 2]\n",
    "gen.score(X_ord_post, y_ord)"
   ]
  },
  {
   "cell_type": "code",
   "execution_count": 72,
   "id": "b1a48c2d",
   "metadata": {},
   "outputs": [
    {
     "data": {
      "text/plain": [
       "(1471, 63, 50)"
      ]
     },
     "execution_count": 72,
     "metadata": {},
     "output_type": "execute_result"
    }
   ],
   "source": [
    "X_ord_post.shape"
   ]
  },
  {
   "cell_type": "code",
   "execution_count": 76,
   "id": "ac215f83",
   "metadata": {},
   "outputs": [
    {
     "data": {
      "text/plain": [
       "array([1, 2, 3, 4], dtype=int32)"
      ]
     },
     "execution_count": 76,
     "metadata": {},
     "output_type": "execute_result"
    }
   ],
   "source": [
    "np.unique(y_ord)"
   ]
  },
  {
   "cell_type": "code",
   "execution_count": 74,
   "id": "18bb9e12",
   "metadata": {},
   "outputs": [
    {
     "name": "stdout",
     "output_type": "stream",
     "text": [
      "(1348, 63, 50) (1348,)\n",
      "(1471, 63, 50) (1471,)\n"
     ]
    }
   ],
   "source": [
    "print(X_post_rnd.shape, y.shape)\n",
    "print(X_ord_post.shape, y_ord.shape)\n"
   ]
  }
 ],
 "metadata": {
  "kernelspec": {
   "display_name": "venv (3.10.9)",
   "language": "python",
   "name": "python3"
  },
  "language_info": {
   "codemirror_mode": {
    "name": "ipython",
    "version": 3
   },
   "file_extension": ".py",
   "mimetype": "text/x-python",
   "name": "python",
   "nbconvert_exporter": "python",
   "pygments_lexer": "ipython3",
   "version": "3.10.9"
  }
 },
 "nbformat": 4,
 "nbformat_minor": 5
}
